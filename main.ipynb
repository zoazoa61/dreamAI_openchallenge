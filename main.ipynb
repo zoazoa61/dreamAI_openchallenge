{
 "cells": [
  {
   "cell_type": "markdown",
   "metadata": {},
   "source": [
    "## 꿈꾸는아이(AI) 전력 수요량 예측 경진대회\n",
    "## Fe lab. 팀\n"
   ]
  },
  {
   "cell_type": "markdown",
   "metadata": {},
   "source": [
    "## 1. 라이브러리 및 데이터\n",
    "* 사용 library 및 version:\n",
    "pandas==1.1.4\n",
    "scikit-learn==0.23.2\n",
    "tensorflow==2.1.0\n",
    "* seed=42\n",
    "* data path: 'data/'\n",
    "* parameter path: 'data/parameters/'\n",
    "* test.csv만을 이용하여 학습 및 예측"
   ]
  },
  {
   "cell_type": "code",
   "execution_count": 6,
   "metadata": {},
   "outputs": [],
   "source": [
    "import pandas as pd\n",
    "import numpy as np\n",
    "import os\n",
    "from tqdm import tqdm\n",
    "from pathlib import Path\n",
    "import tensorflow as tf\n",
    "from sklearn.ensemble import RandomForestRegressor\n",
    "import tensorflow as tf\n",
    "from tensorflow.keras import layers\n",
    "from sklearn.multioutput import MultiOutputRegressor\n",
    "from sklearn.svm import SVR\n",
    "from sklearn.tree import DecisionTreeRegressor\n",
    "from sklearn.ensemble import ExtraTreesRegressor\n",
    "\n",
    "data_path = 'data/'\n",
    "\n",
    "# 시드 설정 및 데이터 load\n",
    "tf.compat.v1.set_random_seed(42)\n",
    "np.random.seed(42)\n",
    "test = pd.read_csv(data_path+'test.csv')\n",
    "test['Time'] = pd.to_datetime(test.Time)\n",
    "test = test.set_index('Time')\n",
    "submission = pd.read_csv(data_path+'submission.csv')\n",
    "submission.index = submission['meter_id']\n",
    "submission.drop(columns=['meter_id'], inplace=True)\n",
    "\n",
    "# Load tuned parameters\n",
    "dct_param_list = pd.read_csv(data_path+'parameters/dct_params.csv',dtype={'max_depth':int,'min_samples_leaf':int})\n",
    "dct_param_list.set_index('Unnamed: 0', inplace=True)\n",
    "dnn_param_list = pd.read_csv(data_path+'parameters/dnn_params.csv',dtype={'EPOCH':int,'h1':int,'h2':int,'h3':int,'h4':int})\n",
    "dnn_param_list.set_index('Unnamed: 0', inplace=True)\n",
    "extra_param_list = pd.read_csv(data_path+'parameters/extra_params.csv',dtype={'max_depth':int,'min_samples_leaf':int,'n_jobs':int})\n",
    "extra_param_list.set_index('Unnamed: 0', inplace=True)\n",
    "rf_param_list = pd.read_csv(data_path+'parameters/rf_params.csv',dtype={'max_depth':int,'min_samples_leaf':int,'n_estimators':int,'random_state':int,'n_jobs':int})\n",
    "rf_param_list.set_index('Unnamed: 0', inplace=True)\n",
    "svr_param_list = pd.read_csv(data_path+'parameters/svr_params.csv')\n",
    "svr_param_list.set_index('Unnamed: 0', inplace=True)"
   ]
  },
  {
   "cell_type": "markdown",
   "metadata": {},
   "source": [
    "## 2. 함수 구성\n",
    "* __smape__: smape 계산 모듈 \n",
    "* __tr_data_set__: 시간별 예측을 위한 데이터 정리\n",
    "* __tr_day_set__: 일별, 월별 예측을 위한 데이터 정리\n",
    "* __linear_prediction and AR_val__: 선형 예측 모듈\n",
    "* __similar_approach_val__: similar day 기반 예측 모듈\n",
    "* __dnn_gen_val__: Multi Layer Perceptron (MLP) 예측 모듈\n",
    "* __lstm_gen_val__: Long Short Term Memory (LSTM) 예측 모듈\n",
    "* __rf_gen_val__: Random Forest (RF) 예측 모듈\n",
    "* __svr_gen_val__: Support Vector Regression (SVR) 예측 모듈\n",
    "* __extra_gen_val__: Extra tree 예측 모듈\n",
    "* __dct_gen_val__: Decision Tree 예측 모듈"
   ]
  },
  {
   "cell_type": "code",
   "execution_count": 7,
   "metadata": {},
   "outputs": [],
   "source": [
    "def smape(true, pred):\n",
    "    \"\"\"\n",
    "    [ Input ]\n",
    "    true: real data\n",
    "    pred: predicted data\n",
    "    \n",
    "    [ Output ]\n",
    "    output: smape value\n",
    "    \"\"\"\n",
    "    v = 2 * abs(pred - true) / (abs(pred) + abs(true))\n",
    "    output = np.mean(v) * 100\n",
    "    return output\n",
    "\n",
    "def tr_data_set(Data, place_id, prev_type, Curr_type):\n",
    "    \"\"\"\n",
    "    [ Input ]\n",
    "    Data: test.csv 전력 데이터\n",
    "    place_id: 집 index\n",
    "    prev_type: 전날의 daytype\n",
    "    Curr_type: 현재 daytype\n",
    "    \n",
    "    [ Output ]\n",
    "    TrainAR: 예측 전날 데이터 (shpae: n_day, 24_point)\n",
    "    TestAR: 예측 날 데이터 (shpae: n_day, 24_point)\n",
    "    \"\"\"\n",
    "    TrainAR = []\n",
    "    TestAR = []\n",
    "    len_bad = 20  # 하루에 NaN이 len_bad 이상이면 데이터 삭제\n",
    "    Power = Data[place_id].iloc  # 전력\n",
    "    Date = Data[place_id].index  # 날짜\n",
    "    prev_aloc = [0] * 24\n",
    "    curr_aloc = [0] * 24\n",
    "\n",
    "    for ii in range(24, len(Date)):\n",
    "        if (Date[ii].hour == 0) & (ii > 48) & (np.sum(curr_aloc) != 24 * curr_aloc[1]) & (\n",
    "                np.sum(prev_aloc) != 24 * prev_aloc[1]):\n",
    "            prev_idx = 0\n",
    "            curr_idx = 0\n",
    "\n",
    "            for kk in range(0, 24):\n",
    "                # bad data인지 확인\n",
    "                if prev_aloc[kk] > -20:\n",
    "                    prev_idx = prev_idx + 1\n",
    "                else:  # Bad data를 기준으로 앞뒤로 len_bad point를 가져와서 복원\n",
    "                    temp = np.zeros([1, 41])\n",
    "                    for qq in range(0, 41):\n",
    "                        temp[0, qq] = Power[(ii - 24) - (24 - kk) - 20 + qq]\n",
    "\n",
    "                    temp_temp = pd.DataFrame(data=temp)\n",
    "                    # spline으로 interpolation\n",
    "                    temp = temp_temp.interpolate('spline', order=1)\n",
    "                    temp = temp.values\n",
    "                    prev_aloc[kk] = temp[0, 20]\n",
    "\n",
    "            for kk in range(0, 24):\n",
    "                # bad data인지 확인\n",
    "                if curr_aloc[kk] > -20:\n",
    "                    curr_idx = curr_idx + 1\n",
    "                else:\n",
    "                    # Bad data를 기준으로 앞뒤로 len_bad point를 가져와서 복원\n",
    "                    temp = np.zeros([1, 41])\n",
    "                    for qq in range(0, 41):\n",
    "                        temp[0, qq] = Power[(ii) - (24 - kk) - 20 + qq]\n",
    "                    temp_temp = pd.DataFrame(data=temp)\n",
    "                    # spline으로 interpolation\n",
    "                    temp = temp_temp.interpolate('spline', order=1)\n",
    "                    temp = temp.values\n",
    "                    curr_aloc[kk] = temp[0, 20]\n",
    "\n",
    "            # len_bad 이상인지 확인\n",
    "            if (prev_idx > len_bad) & (curr_idx > len_bad):\n",
    "                TrainAR.append(prev_aloc)\n",
    "                TestAR.append(curr_aloc)\n",
    "\n",
    "        # 0시에 데이터 초기화\n",
    "        if Date[ii].hour == 0:\n",
    "            prev_aloc = [0] * 24\n",
    "            curr_aloc = [0] * 24\n",
    "\n",
    "        # 무슨 요일인지 확인\n",
    "        prev_day = Date[ii - 24].weekday()\n",
    "        curr_day = Date[ii].weekday()\n",
    "\n",
    "        # 요일 데이터 타입 분류\n",
    "        # working day (1) = day type<5(월~금)\n",
    "        # non-working day (2) = day type>4(토~일)\n",
    "        if ((prev_type == 1) & (prev_day < 5)) & ((Curr_type == 2) & (curr_day > 4)):\n",
    "            prev_aloc[Date[ii - 24].hour] = Power[ii - 24]\n",
    "            curr_aloc[Date[ii].hour] = Power[ii]\n",
    "\n",
    "        if ((prev_type == 1) & (prev_day < 5)) & ((Curr_type == 1) & (curr_day < 5)):\n",
    "            prev_aloc[Date[ii - 24].hour] = Power[ii - 24]\n",
    "            curr_aloc[Date[ii].hour] = Power[ii]\n",
    "\n",
    "        if ((prev_type == 2) & (prev_day > 4)) & ((Curr_type == 2) & (curr_day > 4)):\n",
    "            prev_aloc[Date[ii - 24].hour] = Power[ii - 24]\n",
    "            curr_aloc[Date[ii].hour] = Power[ii]\n",
    "\n",
    "        if ((prev_type == 2) & (prev_day > 4)) & ((Curr_type == 1) & (curr_day < 5)):\n",
    "            prev_aloc[Date[ii - 24].hour] = Power[ii - 24]\n",
    "            curr_aloc[Date[ii].hour] = Power[ii]\n",
    "\n",
    "    TrainAR = np.array(TrainAR)\n",
    "    TestAR = np.array(TestAR)\n",
    "    return TrainAR, TestAR\n",
    "\n",
    "def tr_day_set(data, place_id):\n",
    "    \"\"\"\n",
    "    [ Input ]\n",
    "    data: test.csv 전력 데이터\n",
    "    place_id: 집 index\n",
    "    \n",
    "    [ Output ]\n",
    "    temp_day: power consumption of previous day\n",
    "    \"\"\"\n",
    "    Power = data[place_id].values  # 전력\n",
    "    Date = data[place_id].index  # 요일\n",
    "\n",
    "    temp_day = np.zeros([6, 7])\n",
    "    mon_idx = np.zeros([1, 7])\n",
    "\n",
    "    for ii in range(0, len(Power) - 500):\n",
    "\n",
    "        idx = len(Power) - ii - 1\n",
    "\n",
    "        day_idx = Date[idx].weekday()  # 요일 idx\n",
    "        time_idx = Date[idx].hour  # 시간 idx\n",
    "\n",
    "        if mon_idx[0, day_idx] < 6:  # 6주 까지만 남김\n",
    "            if np.isnan(Power[idx]):  # 이상치 족원\n",
    "                res_data = np.zeros([1, 9])\n",
    "                # 같은 요일, 시간의 전력 데이터의 평균을 취함\n",
    "                res_data[0, 0] = Power[idx - 24 * 7 - 1]\n",
    "                res_data[0, 1] = Power[idx - 24 * 7]\n",
    "                res_data[0, 2] = Power[idx - 24 * 7 + 1]\n",
    "\n",
    "                res_data[0, 3] = Power[idx - 48 * 7 - 1]\n",
    "                res_data[0, 4] = Power[idx - 48 * 7]\n",
    "                res_data[0, 5] = Power[idx - 48 * 7 + 1]\n",
    "\n",
    "                res_data[0, 6] = Power[idx - 1]\n",
    "                res_data[0, 7] = Power[idx - 3 * 24 * 7]\n",
    "                res_data[0, 8] = Power[idx + 1]\n",
    "                # 하루 (0~24시)의 전력데이터를 더함\n",
    "                temp_day[int(round(mon_idx[0, day_idx])), day_idx] = temp_day[int(\n",
    "                    round(mon_idx[0, day_idx])), day_idx] + np.nanmean(res_data)\n",
    "            else:\n",
    "                # 하루 (0~24시)의 전력데이터를 더함\n",
    "                temp_day[int(round(mon_idx[0, day_idx])), day_idx] = temp_day[\n",
    "                                                                         int(round(mon_idx[0, day_idx])), day_idx] + \\\n",
    "                                                                     Power[idx]\n",
    "            if time_idx == 0:\n",
    "                # week index update\n",
    "                mon_idx[0, day_idx] = mon_idx[0, day_idx] + 1\n",
    "\n",
    "    return temp_day\n",
    "\n",
    "def linear_prediction(trainAR, testAR, flen, test_data):\n",
    "    \"\"\"\n",
    "    [ Input ]\n",
    "    trainAR: train 데이터의 예측 전 날 데이터 셋\n",
    "    testAR:  train 데이터의 예측 날 데이터 셋\n",
    "    flen: filter length\n",
    "    test_data: 예측하고자 하는 날의 전 날 데이터\n",
    "    \n",
    "    [ Output ]\n",
    "    avr_smape: validation set에 대한 평균 smape\n",
    "    fcst: 추정하고자하는 날에 대한 예측 프로파일\n",
    "    pred: validation set에 대한 예측 결과\n",
    "    \"\"\"\n",
    "    # 선형 예측\n",
    "    len_tr = len(trainAR[0, :])\n",
    "    day_t = len(trainAR)\n",
    "    pred = np.empty((len(trainAR), len_tr))\n",
    "    fcst = np.empty((len(trainAR), len_tr))\n",
    "\n",
    "    for j in range(0, day_t):\n",
    "        if day_t > 1:\n",
    "            x_ar = np.delete(trainAR[:, len_tr - flen:len_tr], (j), axis=0)\n",
    "            y = np.delete(testAR, (j), axis=0)\n",
    "        else:\n",
    "            x_ar = trainAR[:, len_tr - flen:len_tr]\n",
    "            y = testAR\n",
    "\n",
    "        pi_x_ar = np.linalg.pinv(x_ar)\n",
    "        lpc_c = np.empty((len(x_ar), flen))\n",
    "\n",
    "        lpc_c = np.matmul(pi_x_ar, y)\n",
    "\n",
    "        test_e = trainAR[j, :]\n",
    "        test_ex = test_e[len_tr - flen:len_tr]\n",
    "        pred[j, :] = np.matmul(test_ex, lpc_c)\n",
    "\n",
    "    x_ar = trainAR[:, len_tr - flen:len_tr]\n",
    "    y = testAR\n",
    "    pi_x_ar = np.linalg.pinv(x_ar)\n",
    "    lpc_c = np.empty((len(x_ar), flen))\n",
    "\n",
    "    lpc_c = np.matmul(pi_x_ar, y)\n",
    "\n",
    "    Test_AR = testAR[0:len(testAR), :]\n",
    "\n",
    "    smape_list = np.zeros((len(pred), 1))\n",
    "\n",
    "    for i in range(0, len(pred)):\n",
    "        smape_list[i] = smape(pred[i, :], Test_AR[i, :])\n",
    "        avr_smape = np.mean(smape_list)\n",
    "\n",
    "    test_e = test_data\n",
    "    test_ex = test_e[len_tr - flen:len_tr]\n",
    "    fcst = np.matmul(test_ex, lpc_c)\n",
    "\n",
    "    return avr_smape, fcst, pred\n",
    "\n",
    "def AR_val(trainAR, testAR, flen, subm_24hrs):\n",
    "    \"\"\"\n",
    "    [ Input ]\n",
    "    trainAR: train 데이터의 예측 전 날 데이터 셋\n",
    "    testAR:  train 데이터의 예측 날 데이터 셋\n",
    "    flen: filter length\n",
    "    subm_24hrs: 예측하고자 하는 날의 전 날 데이터\n",
    "    \n",
    "    [ Output ]\n",
    "    fcst: 추정하고자하는 날에 대한 예측 프로파일\n",
    "    avr_smape: validation set에 대한 평균 smape\n",
    "    pred[numTr:,:]: validation 예측 결과\n",
    "    \"\"\"\n",
    "    len_tr = len(trainAR[0, :])\n",
    "    day_t = len(trainAR)\n",
    "    numTr = int(day_t * 0.8)\n",
    "    pred = np.empty((len(trainAR), len_tr))\n",
    "    fcst = np.empty((len(trainAR), len_tr))\n",
    "\n",
    "    for j in range(0, day_t):\n",
    "        if day_t > 1:\n",
    "            x_ar = np.delete(trainAR[:, len_tr - flen:len_tr], (j), axis=0)\n",
    "            y = np.delete(testAR, (j), axis=0)\n",
    "        else:\n",
    "            x_ar = trainAR[:, len_tr - flen:len_tr]\n",
    "            y = testAR\n",
    "        pi_x_ar = np.linalg.pinv(x_ar)\n",
    "        lpc_c = np.empty((len(x_ar), flen))\n",
    "        lpc_c = np.matmul(pi_x_ar, y)\n",
    "        test_e = trainAR[j, :]\n",
    "        test_ex = test_e[len_tr - flen:len_tr]\n",
    "        pred[j, :] = np.matmul(test_ex, lpc_c)\n",
    "\n",
    "    x_ar = trainAR[:, len_tr - flen:len_tr]\n",
    "    y = testAR\n",
    "    pi_x_ar = np.linalg.pinv(x_ar)\n",
    "    lpc_c = np.empty((len(x_ar), flen))\n",
    "    lpc_c = np.matmul(pi_x_ar, y)\n",
    "    Test_AR = testAR[0:len(testAR), :]\n",
    "    smape_list = np.zeros((len(pred), 1))\n",
    "\n",
    "    for i in range(0, len(pred)):\n",
    "        smape_list[i] = smape(pred[i, :], Test_AR[i, :])\n",
    "        avr_smape = np.mean(smape_list)\n",
    "\n",
    "    test_e = subm_24hrs\n",
    "    test_ex = test_e[len_tr - flen:len_tr]\n",
    "    fcst = np.matmul(test_ex, lpc_c)\n",
    "\n",
    "    return fcst, avr_smape, pred[numTr:,:]\n",
    "\n",
    "def similar_approach_val(trainAR, testAR, slen, sim_set):\n",
    "    \"\"\"\n",
    "    [ Input ]\n",
    "    trainAR: train 데이터의 예측 전 날 데이터 셋\n",
    "    testAR:  train 데이터의 예측 날 데이터 셋\n",
    "    slen: 사용할 날의 길이\n",
    "    sim_set: 예측 전 날의 데이터\n",
    "    \n",
    "    [ Output ]\n",
    "    simil_temp: 추정하고자하는 날에 대한 예측 프로파일\n",
    "    simil_smape: validation set의 smape 평균\n",
    "    y_pred: validation 예측 결과\n",
    "    \"\"\"\n",
    "    simil_smape_list = np.zeros([1, len(testAR[:, 0])])\n",
    "    numTr = int(trainAR.shape[0] * 0.8)\n",
    "    \n",
    "    y_pred = [] # validation 예측 결과 저장\n",
    "    for col_ii in range(0, len(testAR[:, 0])):\n",
    "        simil_mean = []\n",
    "        simil_temp = np.zeros([1, 24])\n",
    "        simil_idx = np.zeros([1, len(testAR[:, 0])])\n",
    "\n",
    "        for sub_col in range(0, len(testAR[:, 0])):\n",
    "            simil_idx[0, sub_col] = smape(trainAR[col_ii, :], trainAR[sub_col, :])\n",
    "\n",
    "        testAR_temp = np.delete(testAR, np.argmin(simil_idx), axis=0)\n",
    "        simil_idx = np.delete(simil_idx, np.argmin(simil_idx), axis=1)\n",
    "\n",
    "        for search_len in range(0, slen):\n",
    "            simil_mean.append(testAR_temp[np.argmin(simil_idx), :])\n",
    "            testAR_temp = np.delete(testAR, np.argmin(simil_idx), axis=0)\n",
    "            simil_idx = np.delete(simil_idx, np.argmin(simil_idx), axis=1)\n",
    "\n",
    "        for row_ii in range(0, 24):\n",
    "            simil_temp[0, row_ii] = np.median(testAR_temp[:, row_ii])\n",
    "\n",
    "        simil_smape_list[0, col_ii] = smape(testAR[col_ii, :], simil_temp)\n",
    "        simil_smape = np.mean(simil_smape_list)\n",
    "        if col_ii >= numTr:\n",
    "            y_pred.append(simil_temp)\n",
    "    y_pred = np.array(y_pred)\n",
    "    y_pred = np.reshape(y_pred,(-1,24))\n",
    "\n",
    "    simil_mean = []\n",
    "    simil_temp = np.zeros([1, 24])\n",
    "    simil_idx = np.zeros([1, len(testAR[:, 0])])\n",
    "    testAR_temp = testAR\n",
    "\n",
    "    for sub_col in range(0, len(testAR[:, 0])):\n",
    "        simil_idx[0, sub_col] = smape(sim_set, trainAR[sub_col, :])\n",
    "\n",
    "    for search_len in range(0, slen):\n",
    "        simil_mean.append(testAR_temp[np.argmin(simil_idx), :])\n",
    "        testAR_temp = np.delete(testAR, np.argmin(simil_idx), axis=0)\n",
    "        simil_idx = np.delete(simil_idx, np.argmin(simil_idx), axis=1)\n",
    "\n",
    "    for row_ii in range(0, 24):\n",
    "        simil_temp[0, row_ii] = np.median(testAR_temp[:, row_ii])\n",
    "\n",
    "    return simil_temp, simil_smape, y_pred\n",
    "\n",
    "def dnn_gen_val(trainAR, testAR, x_24hrs, params=None):\n",
    "    \"\"\"\n",
    "    [ Input ]\n",
    "    trainAR: train 데이터의 예측 전 날 데이터 셋\n",
    "    testAR:  train 데이터의 예측 날 데이터 셋\n",
    "    x_24hrs: 예측 전 날의 데이터\n",
    "    params: 예측 모듈 parameter\n",
    "    \n",
    "    [ Output ]\n",
    "    ypr: 추정하고자하는 날에 대한 예측 프로파일\n",
    "    avr_smape: validation set의 smape 평균\n",
    "    y_pred: validation 예측 결과\n",
    "    \"\"\"\n",
    "    # default parameter\n",
    "    if params == None:\n",
    "        params = {\n",
    "            'EPOCH': 80,\n",
    "            'h1': 128,\n",
    "            'h2': 256,\n",
    "            'h3': 128,\n",
    "            'h4': 0,\n",
    "            'lr': 0.001,\n",
    "        }\n",
    "\n",
    "    # load data\n",
    "    numData = np.size(trainAR, 0)\n",
    "    numTr = int(numData * 0.8)\n",
    "    Xtr = trainAR[0:numTr, :]\n",
    "    Ytr = testAR[0:numTr, :]\n",
    "    Xte = trainAR[numTr:numData, :]\n",
    "    Yte = testAR[numTr:numData, :]\n",
    "    num_tr = np.size(trainAR, 1)\n",
    "    num_te = np.size(testAR, 1)\n",
    "\n",
    "    # Build model\n",
    "    model = tf.keras.Sequential()\n",
    "    model.add(layers.Dense(params['h1'], activation='relu', input_shape=(num_tr,)))\n",
    "    model.add(layers.Dense(params['h2'], activation='relu'))\n",
    "    model.add(layers.Dense(params['h3'], activation='relu'))\n",
    "    if params['h4'] != 0:\n",
    "        model.add(layers.Dense(params['h4'], activation='relu'))\n",
    "    model.add(layers.Dense(num_te))\n",
    "    optimizer = tf.keras.optimizers.Adam(params['lr'])\n",
    "    model.compile(loss='mae',\n",
    "                  optimizer=optimizer,\n",
    "                  metrics=['mae', 'mse'])\n",
    "\n",
    "    model.fit(Xtr, Ytr, epochs=params['EPOCH'], verbose=0)\n",
    "\n",
    "    # validation set 예측\n",
    "    y_pred = model.predict(Xte)\n",
    "    smape_list = np.zeros((len(y_pred), 1))\n",
    "    for i in range(0, len(y_pred)):\n",
    "        smape_list[i] = smape(y_pred[i, :], Yte[i, :])\n",
    "    avr_smape = np.mean(smape_list)\n",
    "\n",
    "    # test set 예측\n",
    "    ypr= model.predict(x_24hrs.reshape(1,-1))\n",
    "    return ypr, avr_smape, y_pred\n",
    "\n",
    "def lstm_gen_val(trainAR, testAR, x_24hrs, params = None):\n",
    "    \"\"\"\n",
    "    [ Input ]\n",
    "    trainAR: train 데이터의 예측 전 날 데이터 셋\n",
    "    testAR:  train 데이터의 예측 날 데이터 셋\n",
    "    x_24hrs: 예측 전 날의 데이터\n",
    "    params: 예측 모듈 parameter\n",
    "    \n",
    "    [ Output ]\n",
    "    Ypr: 추정하고자하는 날에 대한 예측 프로파일\n",
    "    avr_smape: validation set의 smape 평균\n",
    "    y_pred: validation 예측 결과\n",
    "    \"\"\"\n",
    "    # default parameter\n",
    "    if params == None:\n",
    "        params = {\n",
    "            'EPOCH': 80,\n",
    "            'h1': 128,\n",
    "            'h2': 256,\n",
    "            'lr': 0.001,\n",
    "        }\n",
    "    numData = np.size(trainAR, 0)\n",
    "    numTr = int(numData * 0.8)\n",
    "    Xtr = trainAR[0:numTr, :]\n",
    "    Ytr = testAR[0:numTr, :]\n",
    "\n",
    "    Xte = trainAR[numTr:numData, :]\n",
    "    Yte = testAR[numTr:numData, :]\n",
    "\n",
    "    num_tr = np.size(trainAR, 1)\n",
    "    num_te = np.size(testAR, 1)\n",
    "\n",
    "    Xtr = Xtr.reshape(-1, num_tr, 1)\n",
    "    Xte = Xte.reshape(-1, num_te, 1)\n",
    "    Ytr = Ytr.reshape(-1, num_tr)\n",
    "    Yte = Yte.reshape(-1, num_te)\n",
    "    train_data = tf.data.Dataset.from_tensor_slices((Xtr, Ytr))\n",
    "    train_data = train_data.shuffle(num_tr, reshuffle_each_iteration=True)\n",
    "    train_data = train_data.batch(num_tr)\n",
    "    train_data = train_data.repeat(params['EPOCH'])\n",
    "    val_data = tf.data.Dataset.from_tensor_slices((Xte, Yte))\n",
    "    val_data = val_data.batch(num_te)\n",
    "\n",
    "    def build_model():\n",
    "        model = tf.keras.Sequential([\n",
    "            tf.keras.layers.LSTM(params['h1'],\n",
    "                                 return_sequences=False,\n",
    "                                 input_shape=Xtr.shape[-2:],\n",
    "                                 activation='relu'),\n",
    "            layers.Dense(params['h2'], activation='relu'),\n",
    "            layers.Dense(params['h1'], activation='relu'),\n",
    "            layers.Dense(num_te)\n",
    "        ])\n",
    "\n",
    "        optimizer = tf.keras.optimizers.Adam(0.001)\n",
    "\n",
    "        model.compile(loss='mae',\n",
    "                      optimizer=optimizer,\n",
    "                      metrics=['mae', 'mse'])\n",
    "        return model\n",
    "\n",
    "    model = build_model()\n",
    "\n",
    "    es = tf.keras.callbacks.EarlyStopping(\n",
    "        monitor='val_loss',\n",
    "        min_delta=0,\n",
    "        patience=30,\n",
    "        verbose=0,\n",
    "        mode='min',\n",
    "        baseline=None,\n",
    "        restore_best_weights=True\n",
    "    )\n",
    "    # lstm 모델 fit\n",
    "    history = model.fit(\n",
    "        train_data, epochs=params['EPOCH'], verbose=0, validation_data=val_data, callbacks=[es])\n",
    "\n",
    "    hist = pd.DataFrame(history.history)\n",
    "    hist['epoch'] = history.epoch\n",
    "    hist.tail()\n",
    "    # validation set 예측\n",
    "    y_pred = model.predict(Xte)\n",
    "    smape_list = np.zeros((len(y_pred), 1))\n",
    "\n",
    "    for i in range(0, len(y_pred)):\n",
    "        smape_list[i] = smape(y_pred[i, :], Yte[i, :])\n",
    "    avr_smape = np.mean(smape_list)\n",
    "    # test set 예측\n",
    "    x_24hrs = np.reshape(x_24hrs, (-1,24,1))\n",
    "    Ypr= model.predict(x_24hrs)\n",
    "    return Ypr, avr_smape, y_pred\n",
    "\n",
    "def rf_gen_val(trainAR, testAR, x_24hrs, params = None):\n",
    "    \"\"\"\n",
    "    [ Input ]\n",
    "    trainAR: train 데이터의 예측 전 날 데이터 셋\n",
    "    testAR:  train 데이터의 예측 날 데이터 셋\n",
    "    x_24hrs: 예측 전 날의 데이터\n",
    "    params: 예측 모듈 parameter\n",
    "    \n",
    "    [ Output ]\n",
    "    ypr: 추정하고자하는 날에 대한 예측 프로파일\n",
    "    avr_smape: validation set의 smape 평균\n",
    "    y_pred: validation 예측 결과\n",
    "    \"\"\"\n",
    "    Dnum = trainAR.shape[0]\n",
    "    lnum = trainAR.shape[1]\n",
    "    if params == None:\n",
    "        params = {\n",
    "            'max_depth': 2,\n",
    "            'random_state': 0,\n",
    "            'n_estimators': 100,\n",
    "            'criterion': 'mae'\n",
    "        }\n",
    "    numTr = int(Dnum * 0.8)\n",
    "    y_pred = np.zeros((Dnum - numTr, 24))\n",
    "    smape_list = np.zeros([Dnum, 1])\n",
    "    # cross validation\n",
    "    for ii in range(0, Dnum):\n",
    "        trainAR_temp = np.delete(trainAR, ii, axis=0)\n",
    "        testAR_temp = np.delete(testAR, ii, axis=0)\n",
    "\n",
    "        regr = RandomForestRegressor(**params)\n",
    "        regr.fit(trainAR_temp, testAR_temp)\n",
    "\n",
    "        x_temp = np.zeros([1, lnum])\n",
    "        for kk in range(0, lnum):\n",
    "            x_temp[0, kk] = trainAR[ii, kk]\n",
    "\n",
    "        ypr = regr.predict(x_temp)\n",
    "        if ii >= numTr:\n",
    "            y_pred[ii - numTr, :] = ypr\n",
    "        yre = np.zeros([1, lnum])\n",
    "        for kk in range(0, lnum):\n",
    "            yre[0, kk] = testAR[ii, kk]\n",
    "        smape_list[ii] = smape(np.transpose(ypr), np.transpose(yre))\n",
    "    # Randomforest 모델 형성 및 예측\n",
    "    regr = RandomForestRegressor(**params)\n",
    "    regr.fit(trainAR, testAR)\n",
    "    x_24hrs = np.reshape(x_24hrs, (-1, lnum))\n",
    "    ypr = regr.predict(x_24hrs)\n",
    "    avg_smape = np.mean(smape_list)\n",
    "    return ypr, avg_smape, y_pred\n",
    "\n",
    "def svr_gen_val(trainAR, testAR, x_24hrs, params = None):\n",
    "    \"\"\"\n",
    "    [ Input ]\n",
    "    trainAR: train 데이터의 예측 전 날 데이터 셋\n",
    "    testAR:  train 데이터의 예측 날 데이터 셋\n",
    "    x_24hrs: 예측 전 날의 데이터\n",
    "    params: 예측 모듈 parameter\n",
    "    \n",
    "    [ Output ]\n",
    "    ypr: 추정하고자하는 날에 대한 예측 프로파일\n",
    "    avr_smape: validation set의 smape 평균\n",
    "    y_pred: validation 예측 결과\n",
    "    \"\"\"\n",
    "    Dnum = trainAR.shape[0]\n",
    "    lnum = trainAR.shape[1]\n",
    "    # default parameter\n",
    "    if params == None:\n",
    "        params = {\n",
    "            'kernel': 'rbf',\n",
    "        }\n",
    "\n",
    "    numTr = int(Dnum * 0.8)\n",
    "    y_pred = np.zeros((Dnum - numTr, 24))\n",
    "    # cross validation\n",
    "    smape_list = np.zeros([Dnum, 1])\n",
    "    for ii in range(0, Dnum):  # cross validation\n",
    "        trainAR_temp = np.delete(trainAR, ii, axis=0)\n",
    "        testAR_temp = np.delete(testAR, ii, axis=0)\n",
    "\n",
    "        regr = MultiOutputRegressor(SVR(**params))\n",
    "        regr.fit(trainAR_temp, testAR_temp)\n",
    "\n",
    "        x_temp = np.zeros([1, lnum])\n",
    "        for kk in range(0, lnum):\n",
    "            x_temp[0, kk] = trainAR[ii, kk]\n",
    "\n",
    "        ypr = regr.predict(x_temp)\n",
    "        if ii >= numTr:\n",
    "            y_pred[ii - numTr, :] = ypr\n",
    "        yre = np.zeros([1, lnum])\n",
    "        for kk in range(0, lnum):\n",
    "            yre[0, kk] = testAR[ii, kk]\n",
    "        smape_list[ii] = smape(np.transpose(ypr), np.transpose(yre))\n",
    "\n",
    "    # validation set 예측\n",
    "    avg_smape = np.mean(smape_list)\n",
    "    regr = MultiOutputRegressor(SVR(**params))\n",
    "    regr.fit(trainAR, testAR)\n",
    "    x_24hrs = np.reshape(x_24hrs, (-1, lnum))\n",
    "    # test set 예측\n",
    "    ypr = regr.predict(x_24hrs)\n",
    "    return ypr, avg_smape, y_pred\n",
    "\n",
    "def extra_gen_val(trainAR, testAR, x_24hrs, params = None):\n",
    "    \"\"\"\n",
    "    [ Input ]\n",
    "    trainAR: train 데이터의 예측 전 날 데이터 셋\n",
    "    testAR:  train 데이터의 예측 날 데이터 셋\n",
    "    x_24hrs: 예측 전 날의 데이터\n",
    "    params: 예측 모듈 parameter\n",
    "    \n",
    "    [ Output ]\n",
    "    ypr: 추정하고자하는 날에 대한 예측 프로파일\n",
    "    avr_smape: validation set의 smape 평균\n",
    "    y_pred: validation 예측 결과\n",
    "    \"\"\"\n",
    "    Dnum = trainAR.shape[0]\n",
    "    lnum = trainAR.shape[1]\n",
    "    # default parameter\n",
    "    if params == None:\n",
    "        params = {\n",
    "            'n_estimators': 100,\n",
    "            'min_samples_split': 25,\n",
    "        }\n",
    "    numTr = int(Dnum * 0.8)\n",
    "    y_pred = np.zeros((Dnum - numTr, 24))\n",
    "    # cross validation\n",
    "    smape_list = np.zeros([Dnum, 1])\n",
    "    for ii in range(0, Dnum):  # cross validation\n",
    "        trainAR_temp = np.delete(trainAR, ii, axis=0)\n",
    "        testAR_temp = np.delete(testAR, ii, axis=0)\n",
    "\n",
    "        regr = ExtraTreesRegressor(**params)\n",
    "        regr.fit(trainAR_temp, testAR_temp)\n",
    "\n",
    "        x_temp = np.zeros([1, lnum])\n",
    "        for kk in range(0, lnum):\n",
    "            x_temp[0, kk] = trainAR[ii, kk]\n",
    "\n",
    "        ypr = regr.predict(x_temp)\n",
    "        if ii >= numTr:\n",
    "            y_pred[ii - numTr, :] = ypr\n",
    "        yre = np.zeros([1, lnum])\n",
    "        for kk in range(0, lnum):\n",
    "            yre[0, kk] = testAR[ii, kk]\n",
    "        smape_list[ii] = smape(np.transpose(ypr), np.transpose(yre))\n",
    "    avg_smape = np.mean(smape_list)\n",
    "    regr = ExtraTreesRegressor(**params)\n",
    "    regr.fit(trainAR, testAR)\n",
    "    # test set 예측\n",
    "    x_24hrs = np.reshape(x_24hrs, (-1, lnum))\n",
    "    ypr = regr.predict(x_24hrs)\n",
    "    return ypr, avg_smape, y_pred\n",
    "\n",
    "def dct_gen_val(trainAR, testAR, x_24hrs, params = None):\n",
    "    \"\"\"\n",
    "    [ Input ]\n",
    "    trainAR: train 데이터의 예측 전 날 데이터 셋\n",
    "    testAR:  train 데이터의 예측 날 데이터 셋\n",
    "    x_24hrs: 예측 전 날의 데이터\n",
    "    params: 예측 모듈 parameter\n",
    "    \n",
    "    [ Output ]\n",
    "    ypr: 추정하고자하는 날에 대한 예측 프로파일\n",
    "    avr_smape: validation set의 smape 평균\n",
    "    y_pred: validation 예측 결과\n",
    "    \"\"\"\n",
    "    Dnum = trainAR.shape[0]\n",
    "    lnum = trainAR.shape[1]\n",
    "    if params == None:\n",
    "        params = {\n",
    "            'random_state': 0,\n",
    "        }\n",
    "\n",
    "    numTr = int(Dnum * 0.8)\n",
    "    y_pred = np.zeros((Dnum - numTr, 24))\n",
    "    # cross validation\n",
    "    smape_list = np.zeros([Dnum, 1])\n",
    "    for ii in range(0, Dnum):  # cross validation\n",
    "        trainAR_temp = np.delete(trainAR, ii, axis=0)\n",
    "        testAR_temp = np.delete(testAR, ii, axis=0)\n",
    "\n",
    "        regr = DecisionTreeRegressor(**params)\n",
    "        regr.fit(trainAR_temp, testAR_temp)\n",
    "\n",
    "        x_temp = np.zeros([1, lnum])\n",
    "        for kk in range(0, lnum):\n",
    "            x_temp[0, kk] = trainAR[ii, kk]\n",
    "\n",
    "        ypr = regr.predict(x_temp)\n",
    "        if ii >= numTr:\n",
    "            y_pred[ii - numTr, :] = ypr\n",
    "        yre = np.zeros([1, lnum])\n",
    "        for kk in range(0, lnum):\n",
    "            yre[0, kk] = testAR[ii, kk]\n",
    "        smape_list[ii] = smape(np.transpose(ypr), np.transpose(yre))\n",
    "    avg_smape = np.mean(smape_list)\n",
    "    regr = DecisionTreeRegressor(**params)\n",
    "    regr.fit(trainAR, testAR)\n",
    "    # test set 예측\n",
    "    x_24hrs = np.reshape(x_24hrs, (-1, lnum))\n",
    "    ypr = regr.predict(x_24hrs)\n",
    "    return ypr, avg_smape, y_pred"
   ]
  },
  {
   "cell_type": "markdown",
   "metadata": {},
   "source": [
    "## 3. 모델 학습 및 검증 "
   ]
  },
  {
   "cell_type": "markdown",
   "metadata": {},
   "source": [
    "* test.csv의 200개 집 데이터에 대해 모델 학습 및 검증을 진행  \n",
    "1) NaN detection 및 interpolation 수행  \n",
    "2) AR, Similar day approach, dct, dnn, extra, rf, svr 모델을 학습 및 검증하고, validation set에 대한 smape 결과를 smapes_all에 저장  \n",
    "3) 저장된 smape 결과를 기반으로 각 집마다 앞선 7개 모델의 앙상블을 통해 하루 24 포인트를 예측    \n",
    "  \n"
   ]
  },
  {
   "cell_type": "code",
   "execution_count": 8,
   "metadata": {
    "scrolled": true
   },
   "outputs": [
    {
     "name": "stderr",
     "output_type": "stream",
     "text": [
      "\r",
      "0it [00:00, ?it/s]"
     ]
    },
    {
     "name": "stdout",
     "output_type": "stream",
     "text": [
      "WARNING:tensorflow:From C:\\ProgramData\\Anaconda3\\lib\\site-packages\\tensorflow\\python\\ops\\init_ops.py:1251: calling VarianceScaling.__init__ (from tensorflow.python.ops.init_ops) with dtype is deprecated and will be removed in a future version.\n",
      "Instructions for updating:\n",
      "Call initializer instance with the dtype argument instead of passing it to the constructor\n",
      "WARNING:tensorflow:From C:\\ProgramData\\Anaconda3\\lib\\site-packages\\tensorflow\\python\\ops\\math_grad.py:1250: add_dispatch_support.<locals>.wrapper (from tensorflow.python.ops.array_ops) is deprecated and will be removed in a future version.\n",
      "Instructions for updating:\n",
      "Use tf.where in 2.0, which has the same broadcast rule as np.where\n"
     ]
    },
    {
     "name": "stderr",
     "output_type": "stream",
     "text": [
      "\r",
      "1it [02:22, 142.50s/it]"
     ]
    },
    {
     "name": "stdout",
     "output_type": "stream",
     "text": [
      "smape result is {'AR': 17.26631835967926, 'Sim': 18.834771710873188, 'dct': 21.59511230321437, 'dnn': 16.05974799749037, 'extra': 21.595112303214343, 'rf': 21.903082259360026, 'svr': 20.910853546261006}\n"
     ]
    },
    {
     "name": "stderr",
     "output_type": "stream",
     "text": [
      "\r",
      "2it [04:26, 136.91s/it]"
     ]
    },
    {
     "name": "stdout",
     "output_type": "stream",
     "text": [
      "smape result is {'AR': 46.545145983309794, 'Sim': 34.84196670066866, 'dct': 37.84069650896153, 'dnn': 38.58301926126433, 'extra': 37.03249806271737, 'rf': 36.96359394544798, 'svr': 36.762396732231224}\n"
     ]
    },
    {
     "name": "stderr",
     "output_type": "stream",
     "text": [
      "\r",
      "3it [08:18, 165.34s/it]"
     ]
    },
    {
     "name": "stdout",
     "output_type": "stream",
     "text": [
      "smape result is {'AR': 23.259837342184902, 'Sim': 20.21505488850405, 'dct': 20.979569157401308, 'dnn': 18.068241821362616, 'extra': 19.9626495198102, 'rf': 21.15820621279607, 'svr': 20.007284800057867}\n"
     ]
    },
    {
     "name": "stderr",
     "output_type": "stream",
     "text": [
      "\r",
      "4it [10:12, 150.18s/it]"
     ]
    },
    {
     "name": "stdout",
     "output_type": "stream",
     "text": [
      "smape result is {'AR': 28.935533231026273, 'Sim': 23.78179254579485, 'dct': 25.951237799168435, 'dnn': 22.854892057227918, 'extra': 24.26033094836976, 'rf': 25.151375951390797, 'svr': 24.38569529768515}\n"
     ]
    },
    {
     "name": "stderr",
     "output_type": "stream",
     "text": [
      "\r",
      "5it [12:22, 143.94s/it]"
     ]
    },
    {
     "name": "stdout",
     "output_type": "stream",
     "text": [
      "smape result is {'AR': 39.53162106340578, 'Sim': 29.054555911987503, 'dct': 31.04756551293125, 'dnn': 35.453822305510634, 'extra': 30.761306675516174, 'rf': 31.266764762980493, 'svr': 30.6764058506913}\n"
     ]
    },
    {
     "name": "stderr",
     "output_type": "stream",
     "text": [
      "\r",
      "6it [14:45, 143.60s/it]"
     ]
    },
    {
     "name": "stdout",
     "output_type": "stream",
     "text": [
      "smape result is {'AR': 45.63408358600575, 'Sim': 56.79215303056293, 'dct': 47.89496980565439, 'dnn': 40.87645202584252, 'extra': 39.97004569352697, 'rf': 41.29028990797909, 'svr': 39.18925730919461}\n"
     ]
    },
    {
     "name": "stderr",
     "output_type": "stream",
     "text": [
      "\r",
      "7it [16:43, 136.11s/it]"
     ]
    },
    {
     "name": "stdout",
     "output_type": "stream",
     "text": [
      "smape result is {'AR': 32.01999165453967, 'Sim': 26.622328643901852, 'dct': 28.931022632325135, 'dnn': 24.499396679605663, 'extra': 27.821103452115555, 'rf': 28.094187611647637, 'svr': 27.277517578433628}\n"
     ]
    },
    {
     "name": "stderr",
     "output_type": "stream",
     "text": [
      "\r",
      "8it [18:36, 129.10s/it]"
     ]
    },
    {
     "name": "stdout",
     "output_type": "stream",
     "text": [
      "smape result is {'AR': 25.075315777943967, 'Sim': 18.76717144126661, 'dct': 20.157832123871767, 'dnn': 18.637532466796397, 'extra': 19.664585983634073, 'rf': 19.67948789061494, 'svr': 19.195145641646622}\n"
     ]
    },
    {
     "name": "stderr",
     "output_type": "stream",
     "text": [
      "\r",
      "9it [20:42, 128.33s/it]"
     ]
    },
    {
     "name": "stdout",
     "output_type": "stream",
     "text": [
      "smape result is {'AR': 48.76763993974231, 'Sim': 51.682111352895596, 'dct': 41.4310959146377, 'dnn': 39.43534759290101, 'extra': 36.33513049735569, 'rf': 51.42706062345491, 'svr': 38.378125982747235}\n"
     ]
    },
    {
     "name": "stderr",
     "output_type": "stream",
     "text": [
      "\r",
      "10it [23:19, 136.84s/it]"
     ]
    },
    {
     "name": "stdout",
     "output_type": "stream",
     "text": [
      "smape result is {'AR': 36.60115564951414, 'Sim': 30.435671831979892, 'dct': 32.11846161248341, 'dnn': 27.630020443946528, 'extra': 31.845159237969398, 'rf': 31.864670160071807, 'svr': 30.565515315992418}\n"
     ]
    },
    {
     "name": "stderr",
     "output_type": "stream",
     "text": [
      "\r",
      "11it [25:57, 143.13s/it]"
     ]
    },
    {
     "name": "stdout",
     "output_type": "stream",
     "text": [
      "smape result is {'AR': 17.7589433625598, 'Sim': 18.762514793274978, 'dct': 17.930937229550363, 'dnn': 14.895578411781324, 'extra': 15.162834324251449, 'rf': 16.341585945028747, 'svr': 14.712389724932208}\n"
     ]
    },
    {
     "name": "stderr",
     "output_type": "stream",
     "text": [
      "\r",
      "12it [33:04, 228.29s/it]"
     ]
    },
    {
     "name": "stdout",
     "output_type": "stream",
     "text": [
      "smape result is {'AR': 49.941582888494835, 'Sim': 25.794196095963603, 'dct': 23.19883483190979, 'dnn': 13.221500954824698, 'extra': 21.709026535331382, 'rf': 23.379745563351833, 'svr': 26.351083453261143}\n"
     ]
    },
    {
     "name": "stderr",
     "output_type": "stream",
     "text": [
      "\r",
      "13it [40:14, 288.69s/it]"
     ]
    },
    {
     "name": "stdout",
     "output_type": "stream",
     "text": [
      "smape result is {'AR': 27.757321282210786, 'Sim': 24.064697817638788, 'dct': 24.786190983146298, 'dnn': 17.69719419569583, 'extra': 23.919128574393014, 'rf': 24.495199791932507, 'svr': 22.561907644206592}\n"
     ]
    },
    {
     "name": "stderr",
     "output_type": "stream",
     "text": [
      "\r",
      "14it [42:37, 245.23s/it]"
     ]
    },
    {
     "name": "stdout",
     "output_type": "stream",
     "text": [
      "smape result is {'AR': 53.31908491426197, 'Sim': 43.11829448382667, 'dct': 38.777799742328334, 'dnn': 52.10403019937267, 'extra': 37.708106776201824, 'rf': 45.554447101757624, 'svr': 36.7952356218473}\n"
     ]
    },
    {
     "name": "stderr",
     "output_type": "stream",
     "text": [
      "\r",
      "15it [45:00, 214.44s/it]"
     ]
    },
    {
     "name": "stdout",
     "output_type": "stream",
     "text": [
      "smape result is {'AR': 41.1327329628361, 'Sim': 30.519810459871074, 'dct': 33.502599520896126, 'dnn': 28.03290235009199, 'extra': 32.322699926499396, 'rf': 33.9602789885504, 'svr': 31.066021073944295}\n"
     ]
    },
    {
     "name": "stderr",
     "output_type": "stream",
     "text": [
      "\r",
      "16it [47:54, 202.21s/it]"
     ]
    },
    {
     "name": "stdout",
     "output_type": "stream",
     "text": [
      "smape result is {'AR': 42.66227081380004, 'Sim': 32.6717024242767, 'dct': 33.985019591441386, 'dnn': 30.494567744779893, 'extra': 34.432915274845804, 'rf': 37.05045149864072, 'svr': 34.078790129781346}\n"
     ]
    },
    {
     "name": "stderr",
     "output_type": "stream",
     "text": [
      "\r",
      "17it [55:06, 271.25s/it]"
     ]
    },
    {
     "name": "stdout",
     "output_type": "stream",
     "text": [
      "smape result is {'AR': 42.73505789972026, 'Sim': 37.65676843954343, 'dct': 40.38502710663671, 'dnn': 36.41548436933627, 'extra': 38.92976519050447, 'rf': 42.79969542653167, 'svr': 38.67706858771588}\n"
     ]
    },
    {
     "name": "stderr",
     "output_type": "stream",
     "text": [
      "\r",
      "18it [57:38, 235.45s/it]"
     ]
    },
    {
     "name": "stdout",
     "output_type": "stream",
     "text": [
      "smape result is {'AR': 31.551912656005104, 'Sim': 27.765426449914912, 'dct': 28.872744702399114, 'dnn': 25.554741941118767, 'extra': 28.47354126143675, 'rf': 29.173010394517334, 'svr': 28.530308309517977}\n"
     ]
    },
    {
     "name": "stderr",
     "output_type": "stream",
     "text": [
      "\r",
      "19it [59:57, 206.64s/it]"
     ]
    },
    {
     "name": "stdout",
     "output_type": "stream",
     "text": [
      "smape result is {'AR': 30.578654696257342, 'Sim': 25.90688555778039, 'dct': 28.00671010959682, 'dnn': 27.82347048387712, 'extra': 27.047668551287877, 'rf': 26.97030007930492, 'svr': 26.908879125775595}\n"
     ]
    },
    {
     "name": "stderr",
     "output_type": "stream",
     "text": [
      "\r",
      "20it [1:02:40, 193.48s/it]"
     ]
    },
    {
     "name": "stdout",
     "output_type": "stream",
     "text": [
      "smape result is {'AR': 12.476925705448403, 'Sim': 10.477745797943264, 'dct': 11.657449821242254, 'dnn': 14.69385681888486, 'extra': 11.657449821242238, 'rf': 11.825072504616564, 'svr': 11.242865260591687}\n"
     ]
    },
    {
     "name": "stderr",
     "output_type": "stream",
     "text": [
      "\r",
      "21it [1:05:09, 180.06s/it]"
     ]
    },
    {
     "name": "stdout",
     "output_type": "stream",
     "text": [
      "smape result is {'AR': 34.39173145446647, 'Sim': 30.82283287465541, 'dct': 30.26792824321516, 'dnn': 26.907113991005474, 'extra': 30.091730153810612, 'rf': 30.79619317568933, 'svr': 28.47015190318002}\n"
     ]
    },
    {
     "name": "stderr",
     "output_type": "stream",
     "text": [
      "\r",
      "22it [1:07:32, 169.00s/it]"
     ]
    },
    {
     "name": "stdout",
     "output_type": "stream",
     "text": [
      "smape result is {'AR': 41.53592154967867, 'Sim': 31.964645665487165, 'dct': 34.637122967403535, 'dnn': 32.78949466098098, 'extra': 33.06567028294131, 'rf': 33.95592700739601, 'svr': 33.70664463461409}\n"
     ]
    },
    {
     "name": "stderr",
     "output_type": "stream",
     "text": [
      "\r",
      "23it [1:12:19, 204.41s/it]"
     ]
    },
    {
     "name": "stdout",
     "output_type": "stream",
     "text": [
      "smape result is {'AR': 28.16368686935488, 'Sim': 22.558855311544388, 'dct': 24.643463063405235, 'dnn': 22.677361175258167, 'extra': 22.210979758176734, 'rf': 23.440512067954298, 'svr': 22.404767620815253}\n"
     ]
    },
    {
     "name": "stderr",
     "output_type": "stream",
     "text": [
      "\r",
      "24it [1:16:27, 217.54s/it]"
     ]
    },
    {
     "name": "stdout",
     "output_type": "stream",
     "text": [
      "smape result is {'AR': 103.43712475871209, 'Sim': 52.91067515670346, 'dct': 52.095102099758854, 'dnn': 61.82721799941903, 'extra': 50.08820667619327, 'rf': 55.038079529680296, 'svr': 53.181935840886794}\n"
     ]
    },
    {
     "name": "stderr",
     "output_type": "stream",
     "text": [
      "\r",
      "25it [1:21:29, 242.73s/it]"
     ]
    },
    {
     "name": "stdout",
     "output_type": "stream",
     "text": [
      "smape result is {'AR': 29.504080151506237, 'Sim': 25.869356995068074, 'dct': 26.26912427768128, 'dnn': 30.751191087683647, 'extra': 26.26432516628551, 'rf': 26.78714458282904, 'svr': 25.679280181545018}\n"
     ]
    },
    {
     "name": "stderr",
     "output_type": "stream",
     "text": [
      "\r",
      "26it [1:30:22, 329.96s/it]"
     ]
    },
    {
     "name": "stdout",
     "output_type": "stream",
     "text": [
      "smape result is {'AR': 7.026308741138349, 'Sim': 10.932527231291221, 'dct': 9.122324843174164, 'dnn': 6.068106230121659, 'extra': 5.941575396354142, 'rf': 7.262775941001014, 'svr': 6.531290363178749}\n"
     ]
    },
    {
     "name": "stderr",
     "output_type": "stream",
     "text": [
      "\r",
      "27it [1:32:29, 269.04s/it]"
     ]
    },
    {
     "name": "stdout",
     "output_type": "stream",
     "text": [
      "smape result is {'AR': 28.407686085488695, 'Sim': 23.432873934120124, 'dct': 24.140196206788385, 'dnn': 23.551090567690842, 'extra': 23.887292608956916, 'rf': 24.74604552592623, 'svr': 23.338064179364775}\n"
     ]
    },
    {
     "name": "stderr",
     "output_type": "stream",
     "text": [
      "\r",
      "28it [1:34:56, 232.43s/it]"
     ]
    },
    {
     "name": "stdout",
     "output_type": "stream",
     "text": [
      "smape result is {'AR': 32.91444098231627, 'Sim': 29.812037551497806, 'dct': 31.10804399575651, 'dnn': 25.59319670104983, 'extra': 29.97969392266365, 'rf': 30.214508417083614, 'svr': 29.707947055844084}\n"
     ]
    },
    {
     "name": "stderr",
     "output_type": "stream",
     "text": [
      "\r",
      "29it [1:37:44, 212.90s/it]"
     ]
    },
    {
     "name": "stdout",
     "output_type": "stream",
     "text": [
      "smape result is {'AR': 26.20100846343784, 'Sim': 21.58296397795642, 'dct': 21.481220561681223, 'dnn': 17.62965955265675, 'extra': 22.150189458565592, 'rf': 23.03654524758362, 'svr': 22.1667412119812}\n"
     ]
    },
    {
     "name": "stderr",
     "output_type": "stream",
     "text": [
      "\r",
      "30it [1:43:24, 251.16s/it]"
     ]
    },
    {
     "name": "stdout",
     "output_type": "stream",
     "text": [
      "smape result is {'AR': 32.14727315664975, 'Sim': 42.948616527788346, 'dct': 31.86378135340515, 'dnn': 31.378427504200694, 'extra': 30.509089332511618, 'rf': 32.11598492071745, 'svr': 30.528006415079847}\n"
     ]
    },
    {
     "name": "stderr",
     "output_type": "stream",
     "text": [
      "\r",
      "31it [1:46:04, 223.69s/it]"
     ]
    },
    {
     "name": "stdout",
     "output_type": "stream",
     "text": [
      "smape result is {'AR': 26.557849988729647, 'Sim': 25.551656311899936, 'dct': 24.188916278948735, 'dnn': 21.10596481885068, 'extra': 22.784926792659533, 'rf': 25.929307834381078, 'svr': 23.58773984589767}\n"
     ]
    },
    {
     "name": "stderr",
     "output_type": "stream",
     "text": [
      "\r",
      "32it [1:56:23, 342.37s/it]"
     ]
    },
    {
     "name": "stdout",
     "output_type": "stream",
     "text": [
      "smape result is {'AR': 26.726076167734696, 'Sim': 95.9230727242542, 'dct': 21.230601514495618, 'dnn': 36.80370524528392, 'extra': 21.8532014959661, 'rf': 24.458842961470268, 'svr': 20.741572411308066}\n"
     ]
    },
    {
     "name": "stderr",
     "output_type": "stream",
     "text": [
      "\r",
      "33it [2:00:50, 319.95s/it]"
     ]
    },
    {
     "name": "stdout",
     "output_type": "stream",
     "text": [
      "smape result is {'AR': 44.73207357106012, 'Sim': 44.82773858204154, 'dct': 39.04347597848933, 'dnn': 36.917062149626, 'extra': 38.198849657202324, 'rf': 39.5186367285475, 'svr': 40.06047924064425}\n"
     ]
    },
    {
     "name": "stderr",
     "output_type": "stream",
     "text": [
      "\r",
      "34it [2:08:33, 362.77s/it]"
     ]
    },
    {
     "name": "stdout",
     "output_type": "stream",
     "text": [
      "smape result is {'AR': 48.42490583451693, 'Sim': 38.587757220254076, 'dct': 40.61321463533204, 'dnn': 39.560522377349066, 'extra': 40.239672855127225, 'rf': 40.92864093261372, 'svr': 40.56054129095716}\n"
     ]
    },
    {
     "name": "stderr",
     "output_type": "stream",
     "text": [
      "\r",
      "35it [2:14:18, 357.45s/it]"
     ]
    },
    {
     "name": "stdout",
     "output_type": "stream",
     "text": [
      "smape result is {'AR': 56.69779367716272, 'Sim': 44.70973103433696, 'dct': 44.14833749877658, 'dnn': 34.53699985384698, 'extra': 45.7422079717372, 'rf': 44.176497525688156, 'svr': 46.04400548180642}\n"
     ]
    },
    {
     "name": "stderr",
     "output_type": "stream",
     "text": [
      "\r",
      "36it [2:19:38, 346.29s/it]"
     ]
    },
    {
     "name": "stdout",
     "output_type": "stream",
     "text": [
      "smape result is {'AR': 32.01828823683928, 'Sim': 27.61907932425523, 'dct': 16.35471093816372, 'dnn': 12.360634680071634, 'extra': 16.054368462110812, 'rf': 20.768360361283055, 'svr': 16.60818896371162}\n"
     ]
    },
    {
     "name": "stderr",
     "output_type": "stream",
     "text": [
      "\r",
      "37it [2:22:14, 289.05s/it]"
     ]
    },
    {
     "name": "stdout",
     "output_type": "stream",
     "text": [
      "smape result is {'AR': 47.446439233625185, 'Sim': 38.37584597796127, 'dct': 40.59958730689492, 'dnn': 32.11331578559479, 'extra': 38.56789052161404, 'rf': 40.079033033097154, 'svr': 39.45212660387683}\n"
     ]
    },
    {
     "name": "stderr",
     "output_type": "stream",
     "text": [
      "\r",
      "38it [2:32:18, 383.58s/it]"
     ]
    },
    {
     "name": "stdout",
     "output_type": "stream",
     "text": [
      "smape result is {'AR': 31.2758767932104, 'Sim': 49.514754312874025, 'dct': 30.931014649912942, 'dnn': 16.104326720520387, 'extra': 27.18212586226715, 'rf': 34.03247908374416, 'svr': 28.64119767906988}\n"
     ]
    },
    {
     "name": "stderr",
     "output_type": "stream",
     "text": [
      "\r",
      "39it [2:38:43, 384.04s/it]"
     ]
    },
    {
     "name": "stdout",
     "output_type": "stream",
     "text": [
      "smape result is {'AR': 22.575653180858566, 'Sim': 20.29358310731858, 'dct': 21.94429828627956, 'dnn': 19.914427045134058, 'extra': 20.683889538632414, 'rf': 21.087132094290816, 'svr': 20.697472672369727}\n"
     ]
    },
    {
     "name": "stderr",
     "output_type": "stream",
     "text": [
      "\r",
      "40it [2:41:29, 318.66s/it]"
     ]
    },
    {
     "name": "stdout",
     "output_type": "stream",
     "text": [
      "smape result is {'AR': 30.829213305734132, 'Sim': 27.257468459059105, 'dct': 26.73488522660501, 'dnn': 23.32232598448857, 'extra': 25.996736996261635, 'rf': 26.734885226604913, 'svr': 26.668673498817547}\n"
     ]
    },
    {
     "name": "stderr",
     "output_type": "stream",
     "text": [
      "\r",
      "41it [2:43:47, 264.50s/it]"
     ]
    },
    {
     "name": "stdout",
     "output_type": "stream",
     "text": [
      "smape result is {'AR': 25.284757042610167, 'Sim': 25.243185141145336, 'dct': 25.139829163417758, 'dnn': 17.19147936192298, 'extra': 22.07092248423451, 'rf': 23.19874728885505, 'svr': 22.16318175041177}\n"
     ]
    },
    {
     "name": "stderr",
     "output_type": "stream",
     "text": [
      "\r",
      "42it [2:45:55, 223.45s/it]"
     ]
    },
    {
     "name": "stdout",
     "output_type": "stream",
     "text": [
      "smape result is {'AR': 40.43655320079848, 'Sim': 36.657319038531504, 'dct': 38.211107976084314, 'dnn': 49.87502016964954, 'extra': 35.50101142892898, 'rf': 37.98543500907235, 'svr': 35.941213193939475}\n"
     ]
    },
    {
     "name": "stderr",
     "output_type": "stream",
     "text": [
      "\r",
      "43it [2:51:03, 248.84s/it]"
     ]
    },
    {
     "name": "stdout",
     "output_type": "stream",
     "text": [
      "smape result is {'AR': 24.301358007183946, 'Sim': 21.34264308040805, 'dct': 22.66633408857711, 'dnn': 20.654407709048428, 'extra': 21.935255831355544, 'rf': 22.595453800399095, 'svr': 21.92301807552661}\n"
     ]
    },
    {
     "name": "stderr",
     "output_type": "stream",
     "text": [
      "\r",
      "44it [2:54:19, 232.92s/it]"
     ]
    },
    {
     "name": "stdout",
     "output_type": "stream",
     "text": [
      "smape result is {'AR': 32.33461738618895, 'Sim': 29.89190806640314, 'dct': 29.561625597080138, 'dnn': 25.59141377960603, 'extra': 26.01313221755906, 'rf': 26.79328709707701, 'svr': 26.307169853367473}\n"
     ]
    },
    {
     "name": "stderr",
     "output_type": "stream",
     "text": [
      "\r",
      "45it [2:56:31, 202.54s/it]"
     ]
    },
    {
     "name": "stdout",
     "output_type": "stream",
     "text": [
      "smape result is {'AR': 40.75678968336398, 'Sim': 32.638126847155355, 'dct': 34.794728108942486, 'dnn': 31.157324974851754, 'extra': 33.915502470048274, 'rf': 37.856097592426735, 'svr': 33.63969257044048}\n"
     ]
    },
    {
     "name": "stderr",
     "output_type": "stream",
     "text": [
      "\r",
      "46it [2:58:43, 181.63s/it]"
     ]
    },
    {
     "name": "stdout",
     "output_type": "stream",
     "text": [
      "smape result is {'AR': 40.27225840645742, 'Sim': 31.67498827729899, 'dct': 32.85910685057973, 'dnn': 34.291877100377235, 'extra': 29.033426918507406, 'rf': 32.063408866068606, 'svr': 30.736743908512647}\n"
     ]
    },
    {
     "name": "stderr",
     "output_type": "stream",
     "text": [
      "\r",
      "47it [3:03:26, 211.82s/it]"
     ]
    },
    {
     "name": "stdout",
     "output_type": "stream",
     "text": [
      "smape result is {'AR': 41.092798730485725, 'Sim': 32.624065976194395, 'dct': 34.103117820112296, 'dnn': 26.943397195895585, 'extra': 33.56685657976151, 'rf': 33.810117998903436, 'svr': 33.62737849184973}\n"
     ]
    },
    {
     "name": "stderr",
     "output_type": "stream",
     "text": [
      "\r",
      "48it [3:06:00, 194.60s/it]"
     ]
    },
    {
     "name": "stdout",
     "output_type": "stream",
     "text": [
      "smape result is {'AR': 54.510202766523484, 'Sim': 40.39620148553865, 'dct': 40.13120243291049, 'dnn': 39.74716779566425, 'extra': 38.69846005351261, 'rf': 40.26228645633914, 'svr': 38.41059179471345}\n"
     ]
    },
    {
     "name": "stderr",
     "output_type": "stream",
     "text": [
      "\r",
      "49it [3:11:02, 226.70s/it]"
     ]
    },
    {
     "name": "stdout",
     "output_type": "stream",
     "text": [
      "smape result is {'AR': 26.21481059763815, 'Sim': 22.360036650829155, 'dct': 22.9007216116389, 'dnn': 17.533740248873585, 'extra': 22.470071623566394, 'rf': 24.55548159388102, 'svr': 22.993276444755605}\n"
     ]
    },
    {
     "name": "stderr",
     "output_type": "stream",
     "text": [
      "\r",
      "50it [3:16:12, 251.70s/it]"
     ]
    },
    {
     "name": "stdout",
     "output_type": "stream",
     "text": [
      "smape result is {'AR': 34.57782919446611, 'Sim': 73.94296396329541, 'dct': 16.043542326864777, 'dnn': 36.94653700700822, 'extra': 17.455522316869935, 'rf': 21.82498017482945, 'svr': 28.827752404808653}\n"
     ]
    },
    {
     "name": "stderr",
     "output_type": "stream",
     "text": [
      "\r",
      "51it [3:18:04, 209.79s/it]"
     ]
    },
    {
     "name": "stdout",
     "output_type": "stream",
     "text": [
      "smape result is {'AR': 19.492032747042522, 'Sim': 17.83422005405534, 'dct': 22.56773016912551, 'dnn': 21.67347032253189, 'extra': 20.422954462872017, 'rf': 20.271103150123636, 'svr': 19.237645717981223}\n"
     ]
    },
    {
     "name": "stderr",
     "output_type": "stream",
     "text": [
      "\r",
      "52it [3:19:57, 180.92s/it]"
     ]
    },
    {
     "name": "stdout",
     "output_type": "stream",
     "text": [
      "smape result is {'AR': 30.502656101470354, 'Sim': 23.236047694528686, 'dct': 23.686677535149556, 'dnn': 21.08497079983283, 'extra': 24.21834884311089, 'rf': 24.07479042040186, 'svr': 23.78001976332577}\n"
     ]
    },
    {
     "name": "stderr",
     "output_type": "stream",
     "text": [
      "\r",
      "53it [3:22:00, 163.31s/it]"
     ]
    },
    {
     "name": "stdout",
     "output_type": "stream",
     "text": [
      "smape result is {'AR': 50.19740314215207, 'Sim': 42.184853150618686, 'dct': 48.03720347407171, 'dnn': 44.52535556293502, 'extra': 45.12262637952848, 'rf': 45.475607410171015, 'svr': 44.521689526179415}\n"
     ]
    },
    {
     "name": "stderr",
     "output_type": "stream",
     "text": [
      "\r",
      "54it [3:26:18, 191.96s/it]"
     ]
    },
    {
     "name": "stdout",
     "output_type": "stream",
     "text": [
      "smape result is {'AR': 1.8572075652682303, 'Sim': 1.605608845008899, 'dct': 1.744821392002512, 'dnn': 1.345227221892121, 'extra': 1.6110268079788874, 'rf': 1.5051139139657446, 'svr': 1.5498907917850062}\n"
     ]
    },
    {
     "name": "stderr",
     "output_type": "stream",
     "text": [
      "\r",
      "55it [3:29:07, 184.83s/it]"
     ]
    },
    {
     "name": "stdout",
     "output_type": "stream",
     "text": [
      "smape result is {'AR': 31.794053713273414, 'Sim': 30.412858245777443, 'dct': 29.820928878967187, 'dnn': 28.67327714342167, 'extra': 29.284309190772152, 'rf': 31.67365991969741, 'svr': 29.373023570247476}\n"
     ]
    },
    {
     "name": "stderr",
     "output_type": "stream",
     "text": [
      "\r",
      "56it [3:31:17, 168.48s/it]"
     ]
    },
    {
     "name": "stdout",
     "output_type": "stream",
     "text": [
      "smape result is {'AR': 45.50373911598519, 'Sim': 37.081625726829714, 'dct': 36.83328265386374, 'dnn': 44.359772239919, 'extra': 36.33369366236473, 'rf': 38.750478100976736, 'svr': 37.51504391632982}\n"
     ]
    },
    {
     "name": "stderr",
     "output_type": "stream",
     "text": [
      "\r",
      "57it [3:35:27, 192.94s/it]"
     ]
    },
    {
     "name": "stdout",
     "output_type": "stream",
     "text": [
      "smape result is {'AR': 55.62580936722702, 'Sim': 40.87273163019087, 'dct': 43.77584148746218, 'dnn': 31.790906886299563, 'extra': 41.835259748107546, 'rf': 44.792235890999365, 'svr': 38.70130894713889}\n"
     ]
    },
    {
     "name": "stderr",
     "output_type": "stream",
     "text": [
      "\r",
      "58it [3:40:56, 233.87s/it]"
     ]
    },
    {
     "name": "stdout",
     "output_type": "stream",
     "text": [
      "smape result is {'AR': 22.69170268842194, 'Sim': 19.838068539459485, 'dct': 20.680902495450532, 'dnn': 19.470314871111874, 'extra': 20.512521212467927, 'rf': 20.643867961544778, 'svr': 20.455277932182234}\n"
     ]
    },
    {
     "name": "stderr",
     "output_type": "stream",
     "text": [
      "\r",
      "59it [3:43:08, 203.14s/it]"
     ]
    },
    {
     "name": "stdout",
     "output_type": "stream",
     "text": [
      "smape result is {'AR': 47.66456957818772, 'Sim': 40.41837532086628, 'dct': 44.96992222194502, 'dnn': 35.27385965046466, 'extra': 42.2124563929795, 'rf': 42.28648104735998, 'svr': 42.27253331133939}\n"
     ]
    },
    {
     "name": "stderr",
     "output_type": "stream",
     "text": [
      "\r",
      "60it [3:49:47, 261.97s/it]"
     ]
    },
    {
     "name": "stdout",
     "output_type": "stream",
     "text": [
      "smape result is {'AR': 45.68802782323656, 'Sim': 41.86218707924148, 'dct': 43.126669009864955, 'dnn': 36.39641492191469, 'extra': 42.103460411259505, 'rf': 42.909312089985534, 'svr': 40.65630967163105}\n"
     ]
    },
    {
     "name": "stderr",
     "output_type": "stream",
     "text": [
      "\r",
      "61it [3:54:52, 274.76s/it]"
     ]
    },
    {
     "name": "stdout",
     "output_type": "stream",
     "text": [
      "smape result is {'AR': 38.35683976908155, 'Sim': 31.084254852306085, 'dct': 31.59277001502283, 'dnn': 29.075210783007183, 'extra': 30.821554154135324, 'rf': 31.84868623726273, 'svr': 31.66810778961475}\n"
     ]
    },
    {
     "name": "stderr",
     "output_type": "stream",
     "text": [
      "\r",
      "62it [3:57:40, 242.90s/it]"
     ]
    },
    {
     "name": "stdout",
     "output_type": "stream",
     "text": [
      "smape result is {'AR': 51.74682811379697, 'Sim': 38.705018291607445, 'dct': 41.431313802204414, 'dnn': 34.735331828528444, 'extra': 38.98541903713377, 'rf': 41.773008763292474, 'svr': 39.17233140548228}\n"
     ]
    },
    {
     "name": "stderr",
     "output_type": "stream",
     "text": [
      "\r",
      "63it [4:04:03, 285.03s/it]"
     ]
    },
    {
     "name": "stdout",
     "output_type": "stream",
     "text": [
      "smape result is {'AR': 24.563669980736645, 'Sim': 20.232646364620273, 'dct': 22.194902030510242, 'dnn': 15.487153535128554, 'extra': 19.871717950619207, 'rf': 20.624877725722314, 'svr': 20.00531955635944}\n"
     ]
    },
    {
     "name": "stderr",
     "output_type": "stream",
     "text": [
      "\r",
      "64it [4:08:30, 279.47s/it]"
     ]
    },
    {
     "name": "stdout",
     "output_type": "stream",
     "text": [
      "smape result is {'AR': 23.394104422609345, 'Sim': 20.571627937486447, 'dct': 22.05219743434855, 'dnn': 21.710490077276962, 'extra': 20.72587204450749, 'rf': 21.369012787002166, 'svr': 21.148885255656545}\n"
     ]
    },
    {
     "name": "stderr",
     "output_type": "stream",
     "text": [
      "\r",
      "65it [4:10:33, 232.60s/it]"
     ]
    },
    {
     "name": "stdout",
     "output_type": "stream",
     "text": [
      "smape result is {'AR': 26.892438968873297, 'Sim': 22.935550400313144, 'dct': 24.060508018173326, 'dnn': 21.475820552516126, 'extra': 24.430660665973615, 'rf': 25.27113500880982, 'svr': 24.76955681042149}\n"
     ]
    },
    {
     "name": "stderr",
     "output_type": "stream",
     "text": [
      "\r",
      "66it [4:12:37, 199.92s/it]"
     ]
    },
    {
     "name": "stdout",
     "output_type": "stream",
     "text": [
      "smape result is {'AR': 46.687552702512484, 'Sim': 47.45256279325124, 'dct': 42.67705804840406, 'dnn': 51.225046676405, 'extra': 38.772979590901826, 'rf': 42.797738839686474, 'svr': 42.85733619776719}\n"
     ]
    },
    {
     "name": "stderr",
     "output_type": "stream",
     "text": [
      "\r",
      "67it [4:16:19, 206.52s/it]"
     ]
    },
    {
     "name": "stdout",
     "output_type": "stream",
     "text": [
      "smape result is {'AR': 34.18586552865057, 'Sim': 28.842162986838314, 'dct': 31.21504015570157, 'dnn': 29.919057495895732, 'extra': 30.098139251123786, 'rf': 30.293444116145206, 'svr': 30.587291208184023}\n"
     ]
    },
    {
     "name": "stderr",
     "output_type": "stream",
     "text": [
      "\r",
      "68it [4:22:07, 249.17s/it]"
     ]
    },
    {
     "name": "stdout",
     "output_type": "stream",
     "text": [
      "smape result is {'AR': 34.48075604278102, 'Sim': 33.133496782202045, 'dct': 27.914905222629688, 'dnn': 32.12760452018317, 'extra': 26.49547815841471, 'rf': 28.0199307039191, 'svr': 28.12075917696958}\n"
     ]
    },
    {
     "name": "stderr",
     "output_type": "stream",
     "text": [
      "\r",
      "69it [4:29:48, 312.47s/it]"
     ]
    },
    {
     "name": "stdout",
     "output_type": "stream",
     "text": [
      "smape result is {'AR': 14.753252295840902, 'Sim': 13.884555563682484, 'dct': 10.50033942693833, 'dnn': 10.948659423731463, 'extra': 9.765141512833074, 'rf': 10.538696234011988, 'svr': 12.059231340264533}\n"
     ]
    },
    {
     "name": "stderr",
     "output_type": "stream",
     "text": [
      "\r",
      "70it [4:31:49, 255.10s/it]"
     ]
    },
    {
     "name": "stdout",
     "output_type": "stream",
     "text": [
      "smape result is {'AR': 35.3246314887482, 'Sim': 32.71683703895608, 'dct': 27.47825808574295, 'dnn': 24.29305665833127, 'extra': 27.932382011765117, 'rf': 29.166686815260647, 'svr': 27.044949863446366}\n"
     ]
    },
    {
     "name": "stderr",
     "output_type": "stream",
     "text": [
      "\r",
      "71it [4:33:48, 214.43s/it]"
     ]
    },
    {
     "name": "stdout",
     "output_type": "stream",
     "text": [
      "smape result is {'AR': 37.79443643316829, 'Sim': 19.348075984338582, 'dct': 20.84154742705227, 'dnn': 17.28870019194028, 'extra': 19.9442891876764, 'rf': 21.186824643644062, 'svr': 18.61912543675305}\n"
     ]
    },
    {
     "name": "stderr",
     "output_type": "stream",
     "text": [
      "\r",
      "72it [4:37:43, 220.50s/it]"
     ]
    },
    {
     "name": "stdout",
     "output_type": "stream",
     "text": [
      "smape result is {'AR': 9.36967916395637, 'Sim': 20.597817554303695, 'dct': 9.958188134130147, 'dnn': 5.729716418877048, 'extra': 9.520956349523356, 'rf': 10.375001820075, 'svr': 12.886589414568904}\n"
     ]
    },
    {
     "name": "stderr",
     "output_type": "stream",
     "text": [
      "\r",
      "73it [4:44:50, 282.56s/it]"
     ]
    },
    {
     "name": "stdout",
     "output_type": "stream",
     "text": [
      "smape result is {'AR': 25.56362208814522, 'Sim': 22.308619278890944, 'dct': 23.368780378454982, 'dnn': 19.90708670379353, 'extra': 21.218363450384047, 'rf': 24.512224531057107, 'svr': 21.438907678347505}\n"
     ]
    },
    {
     "name": "stderr",
     "output_type": "stream",
     "text": [
      "\r",
      "74it [4:48:46, 268.45s/it]"
     ]
    },
    {
     "name": "stdout",
     "output_type": "stream",
     "text": [
      "smape result is {'AR': 36.00354648998744, 'Sim': 30.578465689074996, 'dct': 30.594791740488184, 'dnn': 27.07712803553975, 'extra': 29.653205912530872, 'rf': 32.400991101073544, 'svr': 29.952768421274214}\n"
     ]
    },
    {
     "name": "stderr",
     "output_type": "stream",
     "text": [
      "\r",
      "75it [4:50:34, 220.24s/it]"
     ]
    },
    {
     "name": "stdout",
     "output_type": "stream",
     "text": [
      "smape result is {'AR': 4.374261697010841, 'Sim': 6.163982399168164, 'dct': 5.998632415428812, 'dnn': 3.8213188328399967, 'extra': 4.88970176736511, 'rf': 6.977267872557265, 'svr': 4.343687782748301}\n"
     ]
    },
    {
     "name": "stderr",
     "output_type": "stream",
     "text": [
      "\r",
      "76it [4:53:10, 201.03s/it]"
     ]
    },
    {
     "name": "stdout",
     "output_type": "stream",
     "text": [
      "smape result is {'AR': 48.75003044472073, 'Sim': 34.68508712077607, 'dct': 35.74367196078815, 'dnn': 28.81979014457727, 'extra': 32.97586366991163, 'rf': 36.18219721501658, 'svr': 34.60985292084655}\n"
     ]
    },
    {
     "name": "stderr",
     "output_type": "stream",
     "text": [
      "\r",
      "77it [4:55:10, 176.68s/it]"
     ]
    },
    {
     "name": "stdout",
     "output_type": "stream",
     "text": [
      "smape result is {'AR': 15.330983431664563, 'Sim': 10.877973568671695, 'dct': 13.090126758169257, 'dnn': 15.845106125361543, 'extra': 13.090126758169259, 'rf': 13.377545117367596, 'svr': 12.208275468930292}\n"
     ]
    },
    {
     "name": "stderr",
     "output_type": "stream",
     "text": [
      "\r",
      "78it [4:59:11, 195.92s/it]"
     ]
    },
    {
     "name": "stdout",
     "output_type": "stream",
     "text": [
      "smape result is {'AR': 32.88258757190093, 'Sim': 31.447375320860672, 'dct': 28.21123253513761, 'dnn': 20.37766587369587, 'extra': 27.166222496925688, 'rf': 28.834324751745026, 'svr': 27.95452308487314}\n"
     ]
    },
    {
     "name": "stderr",
     "output_type": "stream",
     "text": [
      "\r",
      "79it [5:02:42, 200.64s/it]"
     ]
    },
    {
     "name": "stdout",
     "output_type": "stream",
     "text": [
      "smape result is {'AR': 34.61813626046151, 'Sim': 29.165676454643254, 'dct': 31.065876167771997, 'dnn': 28.068008871034948, 'extra': 30.581336476186245, 'rf': 30.698179932911824, 'svr': 30.610194476137895}\n"
     ]
    },
    {
     "name": "stderr",
     "output_type": "stream",
     "text": [
      "\r",
      "80it [5:05:13, 185.74s/it]"
     ]
    },
    {
     "name": "stdout",
     "output_type": "stream",
     "text": [
      "smape result is {'AR': 36.4775488692789, 'Sim': 34.34267943724688, 'dct': 28.343775082904923, 'dnn': 29.648142197158002, 'extra': 30.249889103423712, 'rf': 36.421198145719465, 'svr': 31.173394847444925}\n"
     ]
    },
    {
     "name": "stderr",
     "output_type": "stream",
     "text": [
      "\r",
      "81it [5:08:08, 182.60s/it]"
     ]
    },
    {
     "name": "stdout",
     "output_type": "stream",
     "text": [
      "smape result is {'AR': 43.068083615802614, 'Sim': 39.86343021952816, 'dct': 43.17483156591158, 'dnn': 34.90211677062305, 'extra': 40.337747245648416, 'rf': 40.94421914033639, 'svr': 38.8573385264462}\n"
     ]
    },
    {
     "name": "stderr",
     "output_type": "stream",
     "text": [
      "\r",
      "82it [5:10:44, 174.40s/it]"
     ]
    },
    {
     "name": "stdout",
     "output_type": "stream",
     "text": [
      "smape result is {'AR': 62.43735509169596, 'Sim': 42.11061544499548, 'dct': 46.61681640803845, 'dnn': 39.09053786620463, 'extra': 44.49898284830838, 'rf': 46.21742201416582, 'svr': 44.61939422129972}\n"
     ]
    },
    {
     "name": "stderr",
     "output_type": "stream",
     "text": [
      "\r",
      "83it [5:13:38, 174.26s/it]"
     ]
    },
    {
     "name": "stdout",
     "output_type": "stream",
     "text": [
      "smape result is {'AR': 28.584342857257887, 'Sim': 26.806099639525087, 'dct': 26.677622449766037, 'dnn': 19.754863020518844, 'extra': 26.453352526710578, 'rf': 27.75999986863588, 'svr': 27.01181375890058}\n"
     ]
    },
    {
     "name": "stderr",
     "output_type": "stream",
     "text": [
      "\r",
      "84it [5:15:37, 157.73s/it]"
     ]
    },
    {
     "name": "stdout",
     "output_type": "stream",
     "text": [
      "smape result is {'AR': 62.9051095320443, 'Sim': 45.17859226405081, 'dct': 48.28223354126868, 'dnn': 42.800909702541915, 'extra': 47.717254092288364, 'rf': 51.57163260517378, 'svr': 46.70449978942264}\n"
     ]
    },
    {
     "name": "stderr",
     "output_type": "stream",
     "text": [
      "\r",
      "85it [5:18:09, 156.18s/it]"
     ]
    },
    {
     "name": "stdout",
     "output_type": "stream",
     "text": [
      "smape result is {'AR': 39.58698860791448, 'Sim': 32.52332687026314, 'dct': 34.415928818279944, 'dnn': 27.285950702699495, 'extra': 33.21851934040479, 'rf': 33.7797525100935, 'svr': 33.470320410426716}\n"
     ]
    },
    {
     "name": "stderr",
     "output_type": "stream",
     "text": [
      "\r",
      "86it [5:21:47, 174.51s/it]"
     ]
    },
    {
     "name": "stdout",
     "output_type": "stream",
     "text": [
      "smape result is {'AR': 26.752905915276912, 'Sim': 24.650628823836055, 'dct': 23.51332475844227, 'dnn': 20.443068952035254, 'extra': 22.935600363593338, 'rf': 25.58221423009559, 'svr': 24.128783837465054}\n"
     ]
    },
    {
     "name": "stderr",
     "output_type": "stream",
     "text": [
      "\r",
      "87it [5:25:41, 192.46s/it]"
     ]
    },
    {
     "name": "stdout",
     "output_type": "stream",
     "text": [
      "smape result is {'AR': 36.180891522196454, 'Sim': 35.3431196943632, 'dct': 38.0510223871927, 'dnn': 28.06898640093431, 'extra': 33.36855784437351, 'rf': 33.24536955997218, 'svr': 33.04238411211795}\n"
     ]
    },
    {
     "name": "stderr",
     "output_type": "stream",
     "text": [
      "\r",
      "88it [5:28:00, 176.37s/it]"
     ]
    },
    {
     "name": "stdout",
     "output_type": "stream",
     "text": [
      "smape result is {'AR': 32.97415840465412, 'Sim': 34.634560698109944, 'dct': 36.512914171938704, 'dnn': 23.20756445202298, 'extra': 31.516216028192144, 'rf': 32.22260061064342, 'svr': 30.934549426526686}\n"
     ]
    },
    {
     "name": "stderr",
     "output_type": "stream",
     "text": [
      "\r",
      "89it [5:30:15, 163.98s/it]"
     ]
    },
    {
     "name": "stdout",
     "output_type": "stream",
     "text": [
      "smape result is {'AR': 33.434876733378736, 'Sim': 27.687868378766602, 'dct': 28.219074652511523, 'dnn': 25.480035208129674, 'extra': 28.380652881408285, 'rf': 28.805538899564944, 'svr': 27.49984944348273}\n"
     ]
    },
    {
     "name": "stderr",
     "output_type": "stream",
     "text": [
      "\r",
      "90it [5:37:01, 236.48s/it]"
     ]
    },
    {
     "name": "stdout",
     "output_type": "stream",
     "text": [
      "smape result is {'AR': 27.541169035801158, 'Sim': 25.508408774787327, 'dct': 25.54964515447939, 'dnn': 21.45872403168683, 'extra': 23.891746610399696, 'rf': 25.121404886424553, 'svr': 24.435749998936547}\n"
     ]
    },
    {
     "name": "stderr",
     "output_type": "stream",
     "text": [
      "\r",
      "91it [5:39:40, 213.28s/it]"
     ]
    },
    {
     "name": "stdout",
     "output_type": "stream",
     "text": [
      "smape result is {'AR': 31.82748121955312, 'Sim': 29.908666545995636, 'dct': 27.477901221163066, 'dnn': 22.03339809365321, 'extra': 28.17415375042042, 'rf': 29.211006141671636, 'svr': 28.813521874260253}\n"
     ]
    },
    {
     "name": "stderr",
     "output_type": "stream",
     "text": [
      "\r",
      "92it [5:45:24, 252.70s/it]"
     ]
    },
    {
     "name": "stdout",
     "output_type": "stream",
     "text": [
      "smape result is {'AR': 53.29163220676467, 'Sim': 39.677903799746865, 'dct': 41.41488116714878, 'dnn': 35.85221853152166, 'extra': 39.80993609960247, 'rf': 40.68248068106821, 'svr': 40.95457437327503}\n"
     ]
    },
    {
     "name": "stderr",
     "output_type": "stream",
     "text": [
      "\r",
      "93it [5:47:52, 221.21s/it]"
     ]
    },
    {
     "name": "stdout",
     "output_type": "stream",
     "text": [
      "smape result is {'AR': 38.524890078573726, 'Sim': 30.830207333269996, 'dct': 31.95988853866459, 'dnn': 31.54151288522285, 'extra': 30.12183507374392, 'rf': 31.941817300874575, 'svr': 30.291585600203476}\n"
     ]
    },
    {
     "name": "stderr",
     "output_type": "stream",
     "text": [
      "\r",
      "94it [5:49:47, 189.25s/it]"
     ]
    },
    {
     "name": "stdout",
     "output_type": "stream",
     "text": [
      "smape result is {'AR': 96.83500785909177, 'Sim': 44.80040094003147, 'dct': 50.49150858844775, 'dnn': 90.6990258876958, 'extra': 50.49150858844774, 'rf': 59.23052412268534, 'svr': 50.14860118192533}\n"
     ]
    },
    {
     "name": "stderr",
     "output_type": "stream",
     "text": [
      "\r",
      "95it [5:51:53, 170.34s/it]"
     ]
    },
    {
     "name": "stdout",
     "output_type": "stream",
     "text": [
      "smape result is {'AR': 15.485554010895735, 'Sim': 9.282810917700118, 'dct': 10.30580689347506, 'dnn': 11.884683147126376, 'extra': 9.417924515428602, 'rf': 10.719732934091393, 'svr': 9.074189665921542}\n"
     ]
    },
    {
     "name": "stderr",
     "output_type": "stream",
     "text": [
      "\r",
      "96it [5:54:09, 159.91s/it]"
     ]
    },
    {
     "name": "stdout",
     "output_type": "stream",
     "text": [
      "smape result is {'AR': 26.506629368381745, 'Sim': 23.58181888269018, 'dct': 24.87584565175926, 'dnn': 20.466783913770332, 'extra': 23.60927437564055, 'rf': 24.13440967967878, 'svr': 24.02240655256862}\n"
     ]
    },
    {
     "name": "stderr",
     "output_type": "stream",
     "text": [
      "\r",
      "97it [6:00:35, 227.89s/it]"
     ]
    },
    {
     "name": "stdout",
     "output_type": "stream",
     "text": [
      "smape result is {'AR': 35.4683964498262, 'Sim': 32.44196850599361, 'dct': 33.90574136177636, 'dnn': 25.226445355495386, 'extra': 32.63722191924968, 'rf': 35.634504568384436, 'svr': 33.4870780081162}\n"
     ]
    },
    {
     "name": "stderr",
     "output_type": "stream",
     "text": [
      "\r",
      "98it [6:05:50, 254.06s/it]"
     ]
    },
    {
     "name": "stdout",
     "output_type": "stream",
     "text": [
      "smape result is {'AR': 50.01648042395402, 'Sim': 36.8837819286857, 'dct': 41.82532526261125, 'dnn': 37.04892482159839, 'extra': 36.52159834874708, 'rf': 38.093205546899966, 'svr': 36.24928015550275}\n"
     ]
    },
    {
     "name": "stderr",
     "output_type": "stream",
     "text": [
      "\r",
      "99it [6:08:39, 228.36s/it]"
     ]
    },
    {
     "name": "stdout",
     "output_type": "stream",
     "text": [
      "smape result is {'AR': 35.45822924263356, 'Sim': 32.197966000151474, 'dct': 31.709359359830948, 'dnn': 31.708703500930667, 'extra': 29.943709649786165, 'rf': 32.582754268980956, 'svr': 30.504448620107556}\n"
     ]
    },
    {
     "name": "stderr",
     "output_type": "stream",
     "text": [
      "\r",
      "100it [6:11:18, 207.70s/it]"
     ]
    },
    {
     "name": "stdout",
     "output_type": "stream",
     "text": [
      "smape result is {'AR': 29.12698342611186, 'Sim': 24.69490112247484, 'dct': 25.62009315100616, 'dnn': 23.102795714082372, 'extra': 25.526350568563483, 'rf': 26.011024902787, 'svr': 25.521112158967377}\n"
     ]
    },
    {
     "name": "stderr",
     "output_type": "stream",
     "text": [
      "\r",
      "101it [6:20:28, 310.48s/it]"
     ]
    },
    {
     "name": "stdout",
     "output_type": "stream",
     "text": [
      "smape result is {'AR': 41.378020050109676, 'Sim': 44.303516552885995, 'dct': 41.207474303423716, 'dnn': 39.50602104012245, 'extra': 41.24295426256873, 'rf': 46.10253819632382, 'svr': 42.1040162442238}\n"
     ]
    },
    {
     "name": "stderr",
     "output_type": "stream",
     "text": [
      "\r",
      "102it [6:23:13, 266.68s/it]"
     ]
    },
    {
     "name": "stdout",
     "output_type": "stream",
     "text": [
      "smape result is {'AR': 27.988914678082967, 'Sim': 22.42063206688292, 'dct': 23.998401476539062, 'dnn': 18.412085616441924, 'extra': 23.20796988531059, 'rf': 24.90937645710835, 'svr': 23.576999773434558}\n"
     ]
    },
    {
     "name": "stderr",
     "output_type": "stream",
     "text": [
      "\r",
      "103it [6:25:10, 221.92s/it]"
     ]
    },
    {
     "name": "stdout",
     "output_type": "stream",
     "text": [
      "smape result is {'AR': 32.34963679427056, 'Sim': 30.48424767208426, 'dct': 31.11327266361805, 'dnn': 19.791063119733924, 'extra': 29.56467078819656, 'rf': 30.630723684758348, 'svr': 29.550996538887382}\n"
     ]
    },
    {
     "name": "stderr",
     "output_type": "stream",
     "text": [
      "\r",
      "104it [6:29:11, 227.56s/it]"
     ]
    },
    {
     "name": "stdout",
     "output_type": "stream",
     "text": [
      "smape result is {'AR': 47.339571646508226, 'Sim': 26.5609443136045, 'dct': 24.918667721423137, 'dnn': 24.886474350070184, 'extra': 26.116411537365103, 'rf': 26.942451381567402, 'svr': 27.263802887637183}\n"
     ]
    },
    {
     "name": "stderr",
     "output_type": "stream",
     "text": [
      "\r",
      "105it [6:34:18, 251.27s/it]"
     ]
    },
    {
     "name": "stdout",
     "output_type": "stream",
     "text": [
      "smape result is {'AR': 15.826743413495764, 'Sim': 26.11011270388507, 'dct': 15.938092623149094, 'dnn': 16.117110568788632, 'extra': 13.810502449903831, 'rf': 16.565440270272333, 'svr': 16.92916442400732}\n"
     ]
    },
    {
     "name": "stderr",
     "output_type": "stream",
     "text": [
      "\r",
      "106it [6:36:57, 223.57s/it]"
     ]
    },
    {
     "name": "stdout",
     "output_type": "stream",
     "text": [
      "smape result is {'AR': 35.93177241232174, 'Sim': 32.99810497874791, 'dct': 30.19212229156391, 'dnn': 29.439081240884054, 'extra': 27.498813746258207, 'rf': 31.34901348800409, 'svr': 27.833646322296662}\n"
     ]
    },
    {
     "name": "stderr",
     "output_type": "stream",
     "text": [
      "\r",
      "107it [6:39:02, 194.03s/it]"
     ]
    },
    {
     "name": "stdout",
     "output_type": "stream",
     "text": [
      "smape result is {'AR': 42.06993585165003, 'Sim': 29.697126434308004, 'dct': 31.340309161274593, 'dnn': 31.02899774699677, 'extra': 30.270404187817054, 'rf': 30.676414321387377, 'svr': 30.467719854380753}\n"
     ]
    },
    {
     "name": "stderr",
     "output_type": "stream",
     "text": [
      "\r",
      "108it [6:42:59, 207.16s/it]"
     ]
    },
    {
     "name": "stdout",
     "output_type": "stream",
     "text": [
      "smape result is {'AR': 54.20926928195123, 'Sim': 43.175259742958794, 'dct': 41.39288779307946, 'dnn': 57.69360694775604, 'extra': 41.19779060831296, 'rf': 44.59824613542003, 'svr': 42.833535889225374}\n"
     ]
    },
    {
     "name": "stderr",
     "output_type": "stream",
     "text": [
      "\r",
      "109it [6:44:52, 178.84s/it]"
     ]
    },
    {
     "name": "stdout",
     "output_type": "stream",
     "text": [
      "smape result is {'AR': 34.09167845359628, 'Sim': 29.168777917906947, 'dct': 32.0128294139867, 'dnn': 30.37782898951582, 'extra': 29.190616706924402, 'rf': 30.84376027945017, 'svr': 30.42970433615055}\n"
     ]
    },
    {
     "name": "stderr",
     "output_type": "stream",
     "text": [
      "\r",
      "110it [6:46:49, 160.13s/it]"
     ]
    },
    {
     "name": "stdout",
     "output_type": "stream",
     "text": [
      "smape result is {'AR': 18.230625582033724, 'Sim': 16.499352187179674, 'dct': 19.505380723719554, 'dnn': 13.22277629107826, 'extra': 18.66972516528333, 'rf': 19.600755455560677, 'svr': 19.282168625995805}\n"
     ]
    },
    {
     "name": "stderr",
     "output_type": "stream",
     "text": [
      "\r",
      "111it [6:49:04, 152.60s/it]"
     ]
    },
    {
     "name": "stdout",
     "output_type": "stream",
     "text": [
      "smape result is {'AR': 23.510151888307092, 'Sim': 21.542522673806214, 'dct': 21.817815367918683, 'dnn': 18.282261711180627, 'extra': 21.92185000082515, 'rf': 22.842049717085214, 'svr': 22.2765560437372}\n"
     ]
    },
    {
     "name": "stderr",
     "output_type": "stream",
     "text": [
      "\r",
      "112it [6:50:56, 140.40s/it]"
     ]
    },
    {
     "name": "stdout",
     "output_type": "stream",
     "text": [
      "smape result is {'AR': 41.04085886888755, 'Sim': 31.066772852842444, 'dct': 34.24053833973638, 'dnn': 33.17458783202733, 'extra': 33.09227857298749, 'rf': 32.94106453149027, 'svr': 32.39790633425418}\n"
     ]
    },
    {
     "name": "stderr",
     "output_type": "stream",
     "text": [
      "\r",
      "113it [6:53:14, 139.62s/it]"
     ]
    },
    {
     "name": "stdout",
     "output_type": "stream",
     "text": [
      "smape result is {'AR': 46.05229883897326, 'Sim': 30.493562143056955, 'dct': 33.185797821117724, 'dnn': 29.06748519187829, 'extra': 32.24759321440392, 'rf': 33.95155150242835, 'svr': 32.1922830678105}\n"
     ]
    },
    {
     "name": "stderr",
     "output_type": "stream",
     "text": [
      "\r",
      "114it [6:56:02, 148.38s/it]"
     ]
    },
    {
     "name": "stdout",
     "output_type": "stream",
     "text": [
      "smape result is {'AR': 41.517084846682046, 'Sim': 34.92061735257884, 'dct': 34.7493107726143, 'dnn': 26.85383793878546, 'extra': 33.657253919703365, 'rf': 36.49288463845902, 'svr': 33.7065350344978}\n"
     ]
    },
    {
     "name": "stderr",
     "output_type": "stream",
     "text": [
      "\r",
      "115it [6:57:55, 137.73s/it]"
     ]
    },
    {
     "name": "stdout",
     "output_type": "stream",
     "text": [
      "smape result is {'AR': 40.796345531955154, 'Sim': 43.7997852722735, 'dct': 41.64910154706602, 'dnn': 34.792285765596816, 'extra': 39.914959013766854, 'rf': 45.77767809410936, 'svr': 38.08480121260006}\n"
     ]
    },
    {
     "name": "stderr",
     "output_type": "stream",
     "text": [
      "\r",
      "116it [7:00:53, 149.73s/it]"
     ]
    },
    {
     "name": "stdout",
     "output_type": "stream",
     "text": [
      "smape result is {'AR': 38.05189996797733, 'Sim': 28.533748462342675, 'dct': 32.200740396733636, 'dnn': 27.5955762930116, 'extra': 30.014594989627845, 'rf': 30.08088088879481, 'svr': 30.189634525589717}\n"
     ]
    },
    {
     "name": "stderr",
     "output_type": "stream",
     "text": [
      "\r",
      "117it [7:03:28, 151.40s/it]"
     ]
    },
    {
     "name": "stdout",
     "output_type": "stream",
     "text": [
      "smape result is {'AR': 47.38569828290138, 'Sim': 44.348854303629174, 'dct': 46.13393553040904, 'dnn': 38.805347656240656, 'extra': 34.56423172670804, 'rf': 44.6721562922819, 'svr': 43.01478562504108}\n"
     ]
    },
    {
     "name": "stderr",
     "output_type": "stream",
     "text": [
      "\r",
      "118it [7:05:23, 140.44s/it]"
     ]
    },
    {
     "name": "stdout",
     "output_type": "stream",
     "text": [
      "smape result is {'AR': 35.967133687068376, 'Sim': 30.112485899173844, 'dct': 32.176161241524454, 'dnn': 31.11692757321623, 'extra': 31.928556640926473, 'rf': 32.06380031346092, 'svr': 31.736775332334105}\n"
     ]
    },
    {
     "name": "stderr",
     "output_type": "stream",
     "text": [
      "\r",
      "119it [7:09:28, 171.93s/it]"
     ]
    },
    {
     "name": "stdout",
     "output_type": "stream",
     "text": [
      "smape result is {'AR': 30.11479733601812, 'Sim': 19.362884808574936, 'dct': 21.676298603126902, 'dnn': 40.81846532469277, 'extra': 21.67629860312688, 'rf': 22.191881467408137, 'svr': 21.032847405891125}\n"
     ]
    },
    {
     "name": "stderr",
     "output_type": "stream",
     "text": [
      "\r",
      "120it [7:12:31, 174.99s/it]"
     ]
    },
    {
     "name": "stdout",
     "output_type": "stream",
     "text": [
      "smape result is {'AR': 18.904285638161014, 'Sim': 14.520525903858145, 'dct': 15.104478747295245, 'dnn': 13.073685778697905, 'extra': 14.563695059848687, 'rf': 15.121549687612626, 'svr': 14.747571489573229}\n"
     ]
    },
    {
     "name": "stderr",
     "output_type": "stream",
     "text": [
      "\r",
      "121it [7:14:39, 160.89s/it]"
     ]
    },
    {
     "name": "stdout",
     "output_type": "stream",
     "text": [
      "smape result is {'AR': 49.00994356364833, 'Sim': 51.751372736497444, 'dct': 38.55084300920571, 'dnn': 50.10282521787711, 'extra': 40.75338187839808, 'rf': 46.57318957142423, 'svr': 41.959937473724466}\n"
     ]
    },
    {
     "name": "stderr",
     "output_type": "stream",
     "text": [
      "\r",
      "122it [7:17:08, 157.44s/it]"
     ]
    },
    {
     "name": "stdout",
     "output_type": "stream",
     "text": [
      "smape result is {'AR': 38.171163524215956, 'Sim': 39.39729613712772, 'dct': 38.22005799354385, 'dnn': 65.69029142550617, 'extra': 36.178365715499055, 'rf': 40.61927565888614, 'svr': 38.001978517573164}\n"
     ]
    },
    {
     "name": "stderr",
     "output_type": "stream",
     "text": [
      "\r",
      "123it [7:19:18, 149.26s/it]"
     ]
    },
    {
     "name": "stdout",
     "output_type": "stream",
     "text": [
      "smape result is {'AR': 32.94186601600887, 'Sim': 28.77486584917933, 'dct': 29.06750884839251, 'dnn': 35.36718376145127, 'extra': 28.299301166247133, 'rf': 30.33235279931577, 'svr': 28.95002684412188}\n"
     ]
    },
    {
     "name": "stderr",
     "output_type": "stream",
     "text": [
      "\r",
      "124it [7:23:24, 178.20s/it]"
     ]
    },
    {
     "name": "stdout",
     "output_type": "stream",
     "text": [
      "smape result is {'AR': 10.547366848197102, 'Sim': 12.44764806994489, 'dct': 11.137061413502838, 'dnn': 8.770187621156257, 'extra': 10.570717624855599, 'rf': 11.846449300911065, 'svr': 11.075576055302808}\n"
     ]
    },
    {
     "name": "stderr",
     "output_type": "stream",
     "text": [
      "\r",
      "125it [7:25:17, 158.56s/it]"
     ]
    },
    {
     "name": "stdout",
     "output_type": "stream",
     "text": [
      "smape result is {'AR': 29.761498281078318, 'Sim': 21.316500917179, 'dct': 25.124535819466672, 'dnn': 41.17331723769542, 'extra': 25.124535819466644, 'rf': 26.929313689216475, 'svr': 24.71448636123326}\n"
     ]
    },
    {
     "name": "stderr",
     "output_type": "stream",
     "text": [
      "\r",
      "126it [7:27:28, 150.45s/it]"
     ]
    },
    {
     "name": "stdout",
     "output_type": "stream",
     "text": [
      "smape result is {'AR': 39.107293978749205, 'Sim': 29.536447637571744, 'dct': 31.041892738123202, 'dnn': 30.366444889565543, 'extra': 30.272175847577888, 'rf': 31.016492001478696, 'svr': 29.887443572682507}\n"
     ]
    },
    {
     "name": "stderr",
     "output_type": "stream",
     "text": [
      "\r",
      "127it [7:29:50, 147.79s/it]"
     ]
    },
    {
     "name": "stdout",
     "output_type": "stream",
     "text": [
      "smape result is {'AR': 45.314795575727885, 'Sim': 40.254732861935615, 'dct': 38.552696809900205, 'dnn': 27.795020152133798, 'extra': 38.905059139014966, 'rf': 39.757374111129984, 'svr': 40.250048361281664}\n"
     ]
    },
    {
     "name": "stderr",
     "output_type": "stream",
     "text": [
      "\r",
      "128it [7:34:48, 192.93s/it]"
     ]
    },
    {
     "name": "stdout",
     "output_type": "stream",
     "text": [
      "smape result is {'AR': 36.964379188023145, 'Sim': 28.622305252759745, 'dct': 24.251408845349957, 'dnn': 21.434432992771907, 'extra': 22.62279136713111, 'rf': 26.924862818843575, 'svr': 23.11238642744693}\n"
     ]
    },
    {
     "name": "stderr",
     "output_type": "stream",
     "text": [
      "\r",
      "129it [7:38:21, 198.81s/it]"
     ]
    },
    {
     "name": "stdout",
     "output_type": "stream",
     "text": [
      "smape result is {'AR': 34.49933456971212, 'Sim': 28.29398109483691, 'dct': 29.18639661287357, 'dnn': 23.364887841711802, 'extra': 28.62693239151792, 'rf': 29.953706766887535, 'svr': 29.518087355201622}\n"
     ]
    },
    {
     "name": "stderr",
     "output_type": "stream",
     "text": [
      "\r",
      "130it [7:45:23, 265.82s/it]"
     ]
    },
    {
     "name": "stdout",
     "output_type": "stream",
     "text": [
      "smape result is {'AR': 41.804460834398654, 'Sim': 36.51944747325252, 'dct': 34.83435711460567, 'dnn': 28.907609381403667, 'extra': 35.03132365968255, 'rf': 40.03608595859861, 'svr': 35.23561288782745}\n"
     ]
    },
    {
     "name": "stderr",
     "output_type": "stream",
     "text": [
      "\r",
      "131it [7:48:14, 237.37s/it]"
     ]
    },
    {
     "name": "stdout",
     "output_type": "stream",
     "text": [
      "smape result is {'AR': 7.80764480068672, 'Sim': 8.510960640255492, 'dct': 8.070411186699742, 'dnn': 9.496841641986286, 'extra': 7.219144114978134, 'rf': 9.502806630371275, 'svr': 7.4532397676799365}\n"
     ]
    },
    {
     "name": "stderr",
     "output_type": "stream",
     "text": [
      "\r",
      "132it [7:50:25, 205.51s/it]"
     ]
    },
    {
     "name": "stdout",
     "output_type": "stream",
     "text": [
      "smape result is {'AR': 45.481771511521416, 'Sim': 34.412665983351914, 'dct': 36.52368629311846, 'dnn': 34.30234389194768, 'extra': 35.71509756392579, 'rf': 35.878078745875925, 'svr': 34.79911455580719}\n"
     ]
    },
    {
     "name": "stderr",
     "output_type": "stream",
     "text": [
      "\r",
      "133it [7:54:11, 211.59s/it]"
     ]
    },
    {
     "name": "stdout",
     "output_type": "stream",
     "text": [
      "smape result is {'AR': 44.71019097282198, 'Sim': 50.89759467966976, 'dct': 48.4305502816594, 'dnn': 36.93031197910035, 'extra': 43.82032290752985, 'rf': 46.20616296812857, 'svr': 41.927053769828134}\n"
     ]
    },
    {
     "name": "stderr",
     "output_type": "stream",
     "text": [
      "\r",
      "134it [7:56:11, 184.14s/it]"
     ]
    },
    {
     "name": "stdout",
     "output_type": "stream",
     "text": [
      "smape result is {'AR': 52.158252952275355, 'Sim': 37.06244306008475, 'dct': 37.313960578757474, 'dnn': 37.219423789811906, 'extra': 38.0178396287963, 'rf': 37.31396057875748, 'svr': 39.53350362623994}\n"
     ]
    },
    {
     "name": "stderr",
     "output_type": "stream",
     "text": [
      "\r",
      "135it [7:59:06, 181.35s/it]"
     ]
    },
    {
     "name": "stdout",
     "output_type": "stream",
     "text": [
      "smape result is {'AR': 34.59411514690494, 'Sim': 27.73187187472497, 'dct': 28.508254769120644, 'dnn': 24.229144739500903, 'extra': 27.338253282709342, 'rf': 28.558751713865544, 'svr': 28.37099451684677}\n"
     ]
    },
    {
     "name": "stderr",
     "output_type": "stream",
     "text": [
      "\r",
      "136it [8:02:36, 190.00s/it]"
     ]
    },
    {
     "name": "stdout",
     "output_type": "stream",
     "text": [
      "smape result is {'AR': 52.413109574202934, 'Sim': 33.43239971231306, 'dct': 37.10574707420163, 'dnn': 37.91105024078057, 'extra': 34.316476135886255, 'rf': 37.04739557276426, 'svr': 32.731489350387925}\n"
     ]
    },
    {
     "name": "stderr",
     "output_type": "stream",
     "text": [
      "\r",
      "137it [8:06:39, 206.08s/it]"
     ]
    },
    {
     "name": "stdout",
     "output_type": "stream",
     "text": [
      "smape result is {'AR': 53.56409093048845, 'Sim': 33.05223468625156, 'dct': 31.69698548933623, 'dnn': 23.26373289980098, 'extra': 32.24429646952346, 'rf': 35.01297522064587, 'svr': 33.55122371254141}\n"
     ]
    },
    {
     "name": "stderr",
     "output_type": "stream",
     "text": [
      "\r",
      "138it [8:09:39, 198.26s/it]"
     ]
    },
    {
     "name": "stdout",
     "output_type": "stream",
     "text": [
      "smape result is {'AR': 38.71895953419732, 'Sim': 33.44794533324205, 'dct': 33.98662789387947, 'dnn': 35.98495140276582, 'extra': 32.71207567050249, 'rf': 34.314172039894174, 'svr': 32.017127630385076}\n"
     ]
    },
    {
     "name": "stderr",
     "output_type": "stream",
     "text": [
      "\r",
      "139it [8:12:24, 188.24s/it]"
     ]
    },
    {
     "name": "stdout",
     "output_type": "stream",
     "text": [
      "smape result is {'AR': 35.138037616977364, 'Sim': 46.972271655234714, 'dct': 37.51491283759869, 'dnn': 25.235959913068314, 'extra': 33.045617173916604, 'rf': 40.98055584235645, 'svr': 36.07408429846586}\n"
     ]
    },
    {
     "name": "stderr",
     "output_type": "stream",
     "text": [
      "\r",
      "140it [8:16:48, 210.85s/it]"
     ]
    },
    {
     "name": "stdout",
     "output_type": "stream",
     "text": [
      "smape result is {'AR': 37.20008941775895, 'Sim': 25.184849081529393, 'dct': 25.663745278115822, 'dnn': 20.641814276888752, 'extra': 22.326908155270605, 'rf': 28.374708684987343, 'svr': 25.649432044855985}\n"
     ]
    },
    {
     "name": "stderr",
     "output_type": "stream",
     "text": [
      "\r",
      "141it [8:22:53, 257.18s/it]"
     ]
    },
    {
     "name": "stdout",
     "output_type": "stream",
     "text": [
      "smape result is {'AR': 18.888871722086257, 'Sim': 40.17295211615367, 'dct': 29.440426965820585, 'dnn': 16.831474043569106, 'extra': 21.324152486040465, 'rf': 23.97784247760174, 'svr': 22.369100384440696}\n"
     ]
    },
    {
     "name": "stderr",
     "output_type": "stream",
     "text": [
      "\r",
      "142it [8:25:12, 221.79s/it]"
     ]
    },
    {
     "name": "stdout",
     "output_type": "stream",
     "text": [
      "smape result is {'AR': 28.64666029180264, 'Sim': 28.200735038046524, 'dct': 28.035204811128068, 'dnn': 19.173187472016103, 'extra': 26.408229569626215, 'rf': 32.23539904263197, 'svr': 23.94913248784828}\n"
     ]
    },
    {
     "name": "stderr",
     "output_type": "stream",
     "text": [
      "\r",
      "143it [8:27:22, 194.30s/it]"
     ]
    },
    {
     "name": "stdout",
     "output_type": "stream",
     "text": [
      "smape result is {'AR': 19.050625015033944, 'Sim': 22.300176495559914, 'dct': 22.298729830270798, 'dnn': 31.936045823737015, 'extra': 22.1544576257668, 'rf': 23.26767402466346, 'svr': 21.291667961943862}\n"
     ]
    },
    {
     "name": "stderr",
     "output_type": "stream",
     "text": [
      "\r",
      "144it [8:29:22, 171.73s/it]"
     ]
    },
    {
     "name": "stdout",
     "output_type": "stream",
     "text": [
      "smape result is {'AR': 51.223273195960836, 'Sim': 49.51019321765191, 'dct': 52.277125037010926, 'dnn': 56.24722525661374, 'extra': 49.141138183371254, 'rf': 52.30914512365942, 'svr': 47.478664700939326}\n"
     ]
    },
    {
     "name": "stderr",
     "output_type": "stream",
     "text": [
      "\r",
      "145it [8:33:53, 201.76s/it]"
     ]
    },
    {
     "name": "stdout",
     "output_type": "stream",
     "text": [
      "smape result is {'AR': 45.50059224953413, 'Sim': 41.14344215650799, 'dct': 32.25651456725284, 'dnn': 16.312829857456745, 'extra': 32.074038996871955, 'rf': 32.1936755242613, 'svr': 39.49547119989676}\n"
     ]
    },
    {
     "name": "stderr",
     "output_type": "stream",
     "text": [
      "\r",
      "146it [8:36:15, 183.74s/it]"
     ]
    },
    {
     "name": "stdout",
     "output_type": "stream",
     "text": [
      "smape result is {'AR': 28.970607257257026, 'Sim': 23.79021462178506, 'dct': 25.68095720016022, 'dnn': 19.13163279490914, 'extra': 24.771274960790734, 'rf': 26.568053927652144, 'svr': 24.621886943613895}\n"
     ]
    },
    {
     "name": "stderr",
     "output_type": "stream",
     "text": [
      "\r",
      "147it [8:42:01, 232.46s/it]"
     ]
    },
    {
     "name": "stdout",
     "output_type": "stream",
     "text": [
      "smape result is {'AR': 21.929163308166807, 'Sim': 18.131464130798907, 'dct': 19.74914269503847, 'dnn': 17.316084759894117, 'extra': 19.15148625295203, 'rf': 20.87375893128876, 'svr': 18.943684221699687}\n"
     ]
    },
    {
     "name": "stderr",
     "output_type": "stream",
     "text": [
      "\r",
      "148it [8:43:54, 196.67s/it]"
     ]
    },
    {
     "name": "stdout",
     "output_type": "stream",
     "text": [
      "smape result is {'AR': 11.652791096275775, 'Sim': 8.73796925033529, 'dct': 9.405217611049874, 'dnn': 9.084454461304318, 'extra': 9.070637767974079, 'rf': 9.880815322565498, 'svr': 8.97408743770259}\n"
     ]
    },
    {
     "name": "stderr",
     "output_type": "stream",
     "text": [
      "\r",
      "149it [8:48:02, 212.01s/it]"
     ]
    },
    {
     "name": "stdout",
     "output_type": "stream",
     "text": [
      "smape result is {'AR': 35.50968595148629, 'Sim': 32.86072731148995, 'dct': 30.667646644025346, 'dnn': 29.270563735101955, 'extra': 30.934390098381588, 'rf': 30.929419967109986, 'svr': 32.400316119452306}\n"
     ]
    },
    {
     "name": "stderr",
     "output_type": "stream",
     "text": [
      "\r",
      "150it [8:50:09, 186.44s/it]"
     ]
    },
    {
     "name": "stdout",
     "output_type": "stream",
     "text": [
      "smape result is {'AR': 33.61845471797651, 'Sim': 27.502899232903097, 'dct': 27.924203108948113, 'dnn': 23.544086713845044, 'extra': 27.360965093428693, 'rf': 28.000069874259896, 'svr': 27.463509262849765}\n"
     ]
    },
    {
     "name": "stderr",
     "output_type": "stream",
     "text": [
      "\r",
      "151it [8:52:22, 170.39s/it]"
     ]
    },
    {
     "name": "stdout",
     "output_type": "stream",
     "text": [
      "smape result is {'AR': 37.01972645346794, 'Sim': 32.76876487032282, 'dct': 36.23958929463134, 'dnn': 28.12453574206314, 'extra': 34.878949698507384, 'rf': 34.7539500697503, 'svr': 34.27615078683089}\n"
     ]
    },
    {
     "name": "stderr",
     "output_type": "stream",
     "text": [
      "\r",
      "152it [8:54:30, 157.63s/it]"
     ]
    },
    {
     "name": "stdout",
     "output_type": "stream",
     "text": [
      "smape result is {'AR': 39.24816579484671, 'Sim': 42.093304709188004, 'dct': 32.09636392409164, 'dnn': 28.453660491888645, 'extra': 30.880187717544217, 'rf': 33.394501797421185, 'svr': 35.504500589192624}\n"
     ]
    },
    {
     "name": "stderr",
     "output_type": "stream",
     "text": [
      "\r",
      "153it [8:56:59, 155.08s/it]"
     ]
    },
    {
     "name": "stdout",
     "output_type": "stream",
     "text": [
      "smape result is {'AR': 34.22556138459974, 'Sim': 36.53091260789254, 'dct': 35.38220865911842, 'dnn': 56.87667811212598, 'extra': 30.31363531050181, 'rf': 37.93335020241971, 'svr': 34.92801748763633}\n"
     ]
    },
    {
     "name": "stderr",
     "output_type": "stream",
     "text": [
      "\r",
      "154it [9:00:53, 178.68s/it]"
     ]
    },
    {
     "name": "stdout",
     "output_type": "stream",
     "text": [
      "smape result is {'AR': 35.96612751168672, 'Sim': 33.11720441155314, 'dct': 32.45021179082287, 'dnn': 27.618421019171098, 'extra': 31.702331417678163, 'rf': 36.64443853575933, 'svr': 31.160510355206274}\n"
     ]
    },
    {
     "name": "stderr",
     "output_type": "stream",
     "text": [
      "\r",
      "155it [9:05:19, 204.94s/it]"
     ]
    },
    {
     "name": "stdout",
     "output_type": "stream",
     "text": [
      "smape result is {'AR': 4.09148369418931, 'Sim': 2.7316433566433553, 'dct': 2.826340326340325, 'dnn': 2.2477475878449513, 'extra': 3.1104312354312933, 'rf': 3.110431235431812, 'svr': 6.25848822406793}\n"
     ]
    },
    {
     "name": "stderr",
     "output_type": "stream",
     "text": [
      "\r",
      "156it [9:08:07, 193.85s/it]"
     ]
    },
    {
     "name": "stdout",
     "output_type": "stream",
     "text": [
      "smape result is {'AR': 28.778718623096772, 'Sim': 26.25223988475174, 'dct': 27.652587662952385, 'dnn': 22.960318521751855, 'extra': 26.825173668913603, 'rf': 29.44851195111462, 'svr': 26.386630855724277}\n"
     ]
    },
    {
     "name": "stderr",
     "output_type": "stream",
     "text": [
      "\r",
      "157it [9:10:09, 172.46s/it]"
     ]
    },
    {
     "name": "stdout",
     "output_type": "stream",
     "text": [
      "smape result is {'AR': 49.39770034295393, 'Sim': 37.149649256501, 'dct': 38.54743114703928, 'dnn': 39.290674578981964, 'extra': 39.613027957911434, 'rf': 39.3649351980676, 'svr': 39.42169419276577}\n"
     ]
    },
    {
     "name": "stderr",
     "output_type": "stream",
     "text": [
      "\r",
      "158it [9:13:51, 187.32s/it]"
     ]
    },
    {
     "name": "stdout",
     "output_type": "stream",
     "text": [
      "smape result is {'AR': 83.31373473231456, 'Sim': 58.28849886511296, 'dct': 56.39508691999564, 'dnn': 55.484087424022434, 'extra': 55.1576479262655, 'rf': 59.1895144421502, 'svr': 57.35185406318925}\n"
     ]
    },
    {
     "name": "stderr",
     "output_type": "stream",
     "text": [
      "\r",
      "159it [9:16:06, 171.49s/it]"
     ]
    },
    {
     "name": "stdout",
     "output_type": "stream",
     "text": [
      "smape result is {'AR': 30.70952323843306, 'Sim': 24.39305778142058, 'dct': 26.680496830620722, 'dnn': 22.384169107118215, 'extra': 25.498226134115068, 'rf': 25.32099193592115, 'svr': 25.299388511308052}\n"
     ]
    },
    {
     "name": "stderr",
     "output_type": "stream",
     "text": [
      "\r",
      "160it [9:24:52, 277.78s/it]"
     ]
    },
    {
     "name": "stdout",
     "output_type": "stream",
     "text": [
      "smape result is {'AR': 28.420849042482462, 'Sim': 18.87547599676287, 'dct': 17.385703701051103, 'dnn': 11.795599010350877, 'extra': 14.533629731445126, 'rf': 16.349008722886584, 'svr': 19.18797620826514}\n"
     ]
    },
    {
     "name": "stderr",
     "output_type": "stream",
     "text": [
      "\r",
      "161it [9:27:17, 238.08s/it]"
     ]
    },
    {
     "name": "stdout",
     "output_type": "stream",
     "text": [
      "smape result is {'AR': 38.75647368911123, 'Sim': 41.465265719352296, 'dct': 41.23596739535698, 'dnn': 19.630795679801473, 'extra': 37.71845166190708, 'rf': 41.16383271442368, 'svr': 34.20973635405437}\n"
     ]
    },
    {
     "name": "stderr",
     "output_type": "stream",
     "text": [
      "\r",
      "162it [9:31:12, 236.97s/it]"
     ]
    },
    {
     "name": "stdout",
     "output_type": "stream",
     "text": [
      "smape result is {'AR': 28.82911916400377, 'Sim': 23.762811250376963, 'dct': 24.37584348073178, 'dnn': 21.584525576709556, 'extra': 24.19475778462765, 'rf': 24.574047556104915, 'svr': 24.170797461129762}\n"
     ]
    },
    {
     "name": "stderr",
     "output_type": "stream",
     "text": [
      "\r",
      "163it [9:33:33, 208.20s/it]"
     ]
    },
    {
     "name": "stdout",
     "output_type": "stream",
     "text": [
      "smape result is {'AR': 42.700190241823066, 'Sim': 38.73922434628588, 'dct': 43.18631465615791, 'dnn': 41.72199171179308, 'extra': 39.30826413086516, 'rf': 41.10033000119344, 'svr': 40.00330123605114}\n"
     ]
    },
    {
     "name": "stderr",
     "output_type": "stream",
     "text": [
      "\r",
      "164it [9:36:27, 198.20s/it]"
     ]
    },
    {
     "name": "stdout",
     "output_type": "stream",
     "text": [
      "smape result is {'AR': 26.083952013103396, 'Sim': 24.14729435978656, 'dct': 23.293936971574567, 'dnn': 20.778341531963786, 'extra': 23.662572332000746, 'rf': 23.991849980814248, 'svr': 23.489107041775483}\n"
     ]
    },
    {
     "name": "stderr",
     "output_type": "stream",
     "text": [
      "\r",
      "165it [9:38:34, 176.82s/it]"
     ]
    },
    {
     "name": "stdout",
     "output_type": "stream",
     "text": [
      "smape result is {'AR': 54.462666663516416, 'Sim': 42.22214360393233, 'dct': 55.21354564064323, 'dnn': 47.09200294818214, 'extra': 52.69626652002418, 'rf': 61.587363656319404, 'svr': 54.82389264682442}\n"
     ]
    },
    {
     "name": "stderr",
     "output_type": "stream",
     "text": [
      "\r",
      "166it [9:40:37, 160.46s/it]"
     ]
    },
    {
     "name": "stdout",
     "output_type": "stream",
     "text": [
      "smape result is {'AR': 20.050799762966427, 'Sim': 17.62697975391735, 'dct': 20.168870123931242, 'dnn': 21.90741806541456, 'extra': 17.028196255683177, 'rf': 19.20596904535965, 'svr': 17.519443349126483}\n"
     ]
    },
    {
     "name": "stderr",
     "output_type": "stream",
     "text": [
      "\r",
      "167it [9:42:34, 147.66s/it]"
     ]
    },
    {
     "name": "stdout",
     "output_type": "stream",
     "text": [
      "smape result is {'AR': 130.88048505520203, 'Sim': 114.64674248281601, 'dct': 139.07920598705746, 'dnn': 131.19057589022896, 'extra': 126.16533587352066, 'rf': 133.74651594162677, 'svr': 118.93645898906821}\n"
     ]
    },
    {
     "name": "stderr",
     "output_type": "stream",
     "text": [
      "\r",
      "168it [9:44:58, 146.54s/it]"
     ]
    },
    {
     "name": "stdout",
     "output_type": "stream",
     "text": [
      "smape result is {'AR': 32.41934166135832, 'Sim': 26.42419597440146, 'dct': 28.0233877553194, 'dnn': 28.431151165402774, 'extra': 27.587195578134622, 'rf': 29.134322591468262, 'svr': 27.449497330305167}\n"
     ]
    },
    {
     "name": "stderr",
     "output_type": "stream",
     "text": [
      "\r",
      "169it [9:46:58, 138.46s/it]"
     ]
    },
    {
     "name": "stdout",
     "output_type": "stream",
     "text": [
      "smape result is {'AR': 60.3762311894396, 'Sim': 48.38471458690273, 'dct': 51.24318614538382, 'dnn': 51.01676152827116, 'extra': 52.06003628657436, 'rf': 55.240118525347526, 'svr': 51.3581043892083}\n"
     ]
    },
    {
     "name": "stderr",
     "output_type": "stream",
     "text": [
      "\r",
      "170it [9:52:42, 200.15s/it]"
     ]
    },
    {
     "name": "stdout",
     "output_type": "stream",
     "text": [
      "smape result is {'AR': 29.964988821120162, 'Sim': 25.930654098664352, 'dct': 27.080710592823884, 'dnn': 23.781470721637568, 'extra': 26.04123801420306, 'rf': 26.901814405928448, 'svr': 26.041934700142203}\n"
     ]
    },
    {
     "name": "stderr",
     "output_type": "stream",
     "text": [
      "\r",
      "171it [9:59:25, 260.94s/it]"
     ]
    },
    {
     "name": "stdout",
     "output_type": "stream",
     "text": [
      "smape result is {'AR': 51.26060632373943, 'Sim': 57.585153567183674, 'dct': 47.000756210438766, 'dnn': 46.986462521973735, 'extra': 46.39667181850749, 'rf': 52.6900823312604, 'svr': 44.743399402034086}\n"
     ]
    },
    {
     "name": "stderr",
     "output_type": "stream",
     "text": [
      "\r",
      "172it [10:03:38, 258.66s/it]"
     ]
    },
    {
     "name": "stdout",
     "output_type": "stream",
     "text": [
      "smape result is {'AR': 33.71793481603097, 'Sim': 25.452983544568916, 'dct': 26.936727641501893, 'dnn': 24.406630274330332, 'extra': 26.477798689728985, 'rf': 26.43902811916238, 'svr': 26.11154180424373}\n"
     ]
    },
    {
     "name": "stderr",
     "output_type": "stream",
     "text": [
      "\r",
      "173it [10:08:38, 270.95s/it]"
     ]
    },
    {
     "name": "stdout",
     "output_type": "stream",
     "text": [
      "smape result is {'AR': 32.251502055081296, 'Sim': 29.59142790302299, 'dct': 27.280233078493954, 'dnn': 28.461166576701455, 'extra': 27.843854341483006, 'rf': 27.280233078493936, 'svr': 29.568754863441573}\n"
     ]
    },
    {
     "name": "stderr",
     "output_type": "stream",
     "text": [
      "\r",
      "174it [10:11:21, 238.60s/it]"
     ]
    },
    {
     "name": "stdout",
     "output_type": "stream",
     "text": [
      "smape result is {'AR': 32.29777943257234, 'Sim': 28.269572797562482, 'dct': 29.755147503241417, 'dnn': 26.856104838528886, 'extra': 27.172337103818133, 'rf': 29.066937350322043, 'svr': 27.245497770918302}\n"
     ]
    },
    {
     "name": "stderr",
     "output_type": "stream",
     "text": [
      "\r",
      "175it [10:13:31, 205.99s/it]"
     ]
    },
    {
     "name": "stdout",
     "output_type": "stream",
     "text": [
      "smape result is {'AR': 28.79682669252852, 'Sim': 25.76856103800952, 'dct': 26.657103902556372, 'dnn': 27.17186319846424, 'extra': 25.433764762703653, 'rf': 27.429454961989094, 'svr': 25.419833209791896}\n"
     ]
    },
    {
     "name": "stderr",
     "output_type": "stream",
     "text": [
      "\r",
      "176it [10:16:12, 192.65s/it]"
     ]
    },
    {
     "name": "stdout",
     "output_type": "stream",
     "text": [
      "smape result is {'AR': 42.75133528734805, 'Sim': 36.63960482307527, 'dct': 34.154020380734316, 'dnn': 29.183669487612303, 'extra': 40.4829769353609, 'rf': 36.359527820007514, 'svr': 39.20787121995321}\n"
     ]
    },
    {
     "name": "stderr",
     "output_type": "stream",
     "text": [
      "\r",
      "177it [10:20:33, 213.00s/it]"
     ]
    },
    {
     "name": "stdout",
     "output_type": "stream",
     "text": [
      "smape result is {'AR': 15.751985139177206, 'Sim': 15.118493924168467, 'dct': 12.586443073204808, 'dnn': 8.654504576467076, 'extra': 11.087888093516886, 'rf': 12.226348807822438, 'svr': 14.811411590906568}\n"
     ]
    },
    {
     "name": "stderr",
     "output_type": "stream",
     "text": [
      "\r",
      "178it [10:23:13, 197.17s/it]"
     ]
    },
    {
     "name": "stdout",
     "output_type": "stream",
     "text": [
      "smape result is {'AR': 44.32283573028343, 'Sim': 33.26370413445421, 'dct': 32.991463736174, 'dnn': 33.76342839237584, 'extra': 31.190465888695062, 'rf': 36.50511850943574, 'svr': 33.04683133266645}\n"
     ]
    },
    {
     "name": "stderr",
     "output_type": "stream",
     "text": [
      "\r",
      "179it [10:28:51, 239.50s/it]"
     ]
    },
    {
     "name": "stdout",
     "output_type": "stream",
     "text": [
      "smape result is {'AR': 40.27480028775581, 'Sim': 34.48327615851126, 'dct': 33.61518077997709, 'dnn': 27.620392566152287, 'extra': 33.76509138967584, 'rf': 40.29183534834568, 'svr': 34.98467737516739}\n"
     ]
    },
    {
     "name": "stderr",
     "output_type": "stream",
     "text": [
      "\r",
      "180it [10:36:51, 311.44s/it]"
     ]
    },
    {
     "name": "stdout",
     "output_type": "stream",
     "text": [
      "smape result is {'AR': 30.877415738585196, 'Sim': 35.784719424555995, 'dct': 33.70791543007479, 'dnn': 27.336582791919046, 'extra': 30.102131513170562, 'rf': 36.50905917558207, 'svr': 30.557139465504196}\n"
     ]
    },
    {
     "name": "stderr",
     "output_type": "stream",
     "text": [
      "\r",
      "181it [10:39:17, 261.95s/it]"
     ]
    },
    {
     "name": "stdout",
     "output_type": "stream",
     "text": [
      "smape result is {'AR': 40.78976632336642, 'Sim': 31.52518490758454, 'dct': 32.62280086371549, 'dnn': 27.748276708660946, 'extra': 32.55672755142468, 'rf': 32.860512012124175, 'svr': 32.616336940028646}\n"
     ]
    },
    {
     "name": "stderr",
     "output_type": "stream",
     "text": [
      "\r",
      "182it [10:41:47, 228.38s/it]"
     ]
    },
    {
     "name": "stdout",
     "output_type": "stream",
     "text": [
      "smape result is {'AR': 34.22856517025128, 'Sim': 28.39102289837793, 'dct': 29.04997641744417, 'dnn': 23.510806460731864, 'extra': 29.1037416048675, 'rf': 29.684815385549747, 'svr': 28.86987146122648}\n"
     ]
    },
    {
     "name": "stderr",
     "output_type": "stream",
     "text": [
      "\r",
      "183it [10:45:08, 220.13s/it]"
     ]
    },
    {
     "name": "stdout",
     "output_type": "stream",
     "text": [
      "smape result is {'AR': 43.0601108261557, 'Sim': 35.50601814178833, 'dct': 35.72682339957147, 'dnn': 23.930545563285126, 'extra': 34.00653129154944, 'rf': 36.246529034087864, 'svr': 32.17153179206791}\n"
     ]
    },
    {
     "name": "stderr",
     "output_type": "stream",
     "text": [
      "\r",
      "184it [10:47:32, 197.22s/it]"
     ]
    },
    {
     "name": "stdout",
     "output_type": "stream",
     "text": [
      "smape result is {'AR': 36.987039127399115, 'Sim': 29.135799209432562, 'dct': 30.853611811427882, 'dnn': 30.424025762903817, 'extra': 29.968666619917407, 'rf': 32.15747251388435, 'svr': 30.735233185427802}\n"
     ]
    },
    {
     "name": "stderr",
     "output_type": "stream",
     "text": [
      "\r",
      "185it [10:53:38, 247.90s/it]"
     ]
    },
    {
     "name": "stdout",
     "output_type": "stream",
     "text": [
      "smape result is {'AR': 14.044784506985694, 'Sim': 16.176312721679654, 'dct': 8.488244626074275, 'dnn': 5.712229539390325, 'extra': 6.9539775017575876, 'rf': 10.46633997173439, 'svr': 9.361648363703075}\n"
     ]
    },
    {
     "name": "stderr",
     "output_type": "stream",
     "text": [
      "\r",
      "186it [10:56:48, 230.51s/it]"
     ]
    },
    {
     "name": "stdout",
     "output_type": "stream",
     "text": [
      "smape result is {'AR': 22.93617396556823, 'Sim': 19.82028755097646, 'dct': 20.30465626547599, 'dnn': 16.386302424023416, 'extra': 20.05780918778287, 'rf': 20.37011005288114, 'svr': 20.384158638415446}\n"
     ]
    },
    {
     "name": "stderr",
     "output_type": "stream",
     "text": [
      "\r",
      "187it [10:59:54, 217.28s/it]"
     ]
    },
    {
     "name": "stdout",
     "output_type": "stream",
     "text": [
      "smape result is {'AR': 42.916730020206664, 'Sim': 38.649420164723495, 'dct': 41.398521867799985, 'dnn': 34.229800490686046, 'extra': 36.38963340173118, 'rf': 40.78666875174512, 'svr': 37.042533843741154}\n"
     ]
    },
    {
     "name": "stderr",
     "output_type": "stream",
     "text": [
      "\r",
      "188it [11:02:59, 207.61s/it]"
     ]
    },
    {
     "name": "stdout",
     "output_type": "stream",
     "text": [
      "smape result is {'AR': 35.73839425759792, 'Sim': 40.53371832136893, 'dct': 39.143903494339646, 'dnn': 16.893522133090805, 'extra': 36.93765944533586, 'rf': 39.285154813848294, 'svr': 34.113951535731985}\n"
     ]
    },
    {
     "name": "stderr",
     "output_type": "stream",
     "text": [
      "\r",
      "189it [11:05:13, 185.31s/it]"
     ]
    },
    {
     "name": "stdout",
     "output_type": "stream",
     "text": [
      "smape result is {'AR': 0.7780227798171511, 'Sim': 0.6280110090831224, 'dct': 0.7201236253795318, 'dnn': 0.6267400585362174, 'extra': 0.7446755414604912, 'rf': 0.7446755414604589, 'svr': 0.9175481869504851}\n"
     ]
    },
    {
     "name": "stderr",
     "output_type": "stream",
     "text": [
      "\r",
      "190it [11:07:30, 170.77s/it]"
     ]
    },
    {
     "name": "stdout",
     "output_type": "stream",
     "text": [
      "smape result is {'AR': 32.87053766950605, 'Sim': 37.72331181353699, 'dct': 34.52438713293292, 'dnn': 36.58590319049682, 'extra': 30.163118028366178, 'rf': 38.76831899025316, 'svr': 30.08662095550651}\n"
     ]
    },
    {
     "name": "stderr",
     "output_type": "stream",
     "text": [
      "\r",
      "191it [11:11:16, 187.60s/it]"
     ]
    },
    {
     "name": "stdout",
     "output_type": "stream",
     "text": [
      "smape result is {'AR': 27.207523784285467, 'Sim': 22.41325738495285, 'dct': 22.91288706771752, 'dnn': 19.22835672389295, 'extra': 22.75932140895769, 'rf': 23.44935787123733, 'svr': 23.302293503422447}\n"
     ]
    },
    {
     "name": "stderr",
     "output_type": "stream",
     "text": [
      "\r",
      "192it [11:15:47, 212.57s/it]"
     ]
    },
    {
     "name": "stdout",
     "output_type": "stream",
     "text": [
      "smape result is {'AR': 35.783218580099714, 'Sim': 23.969700444925618, 'dct': 24.84067492829848, 'dnn': 27.33447106402155, 'extra': 24.80944568176254, 'rf': 24.882138441759885, 'svr': 24.584520353695687}\n"
     ]
    },
    {
     "name": "stderr",
     "output_type": "stream",
     "text": [
      "\r",
      "193it [11:20:00, 224.51s/it]"
     ]
    },
    {
     "name": "stdout",
     "output_type": "stream",
     "text": [
      "smape result is {'AR': 28.555695137717493, 'Sim': 24.997983713089486, 'dct': 26.96790895946851, 'dnn': 26.36187948495178, 'extra': 26.122080255720583, 'rf': 26.10755702174758, 'svr': 25.812460764010375}\n"
     ]
    },
    {
     "name": "stderr",
     "output_type": "stream",
     "text": [
      "\r",
      "194it [11:22:29, 202.08s/it]"
     ]
    },
    {
     "name": "stdout",
     "output_type": "stream",
     "text": [
      "smape result is {'AR': 33.475008829574826, 'Sim': 32.377235286594754, 'dct': 33.28455653464266, 'dnn': 30.238408685099802, 'extra': 32.26671647877176, 'rf': 33.59531689216575, 'svr': 32.375297816291585}\n"
     ]
    },
    {
     "name": "stderr",
     "output_type": "stream",
     "text": [
      "\r",
      "195it [11:26:55, 221.24s/it]"
     ]
    },
    {
     "name": "stdout",
     "output_type": "stream",
     "text": [
      "smape result is {'AR': 7.061577124554426, 'Sim': 39.30812081728839, 'dct': 5.539281097351662, 'dnn': 10.836984171522577, 'extra': 6.727944122686192, 'rf': 9.276793538975511, 'svr': 7.2225584105995715}\n"
     ]
    },
    {
     "name": "stderr",
     "output_type": "stream",
     "text": [
      "\r",
      "196it [11:29:00, 192.34s/it]"
     ]
    },
    {
     "name": "stdout",
     "output_type": "stream",
     "text": [
      "smape result is {'AR': 37.215777292938725, 'Sim': 33.383975997489735, 'dct': 31.298031260844137, 'dnn': 19.097554710152842, 'extra': 31.0269592868952, 'rf': 35.85370535651614, 'svr': 30.091942839732248}\n"
     ]
    },
    {
     "name": "stderr",
     "output_type": "stream",
     "text": [
      "\r",
      "197it [11:32:36, 199.24s/it]"
     ]
    },
    {
     "name": "stdout",
     "output_type": "stream",
     "text": [
      "smape result is {'AR': 33.17903497284009, 'Sim': 28.309111028352433, 'dct': 30.381656863963006, 'dnn': 28.005918561494262, 'extra': 29.727584793753408, 'rf': 31.45475462312802, 'svr': 29.804426787696986}\n"
     ]
    },
    {
     "name": "stderr",
     "output_type": "stream",
     "text": [
      "\r",
      "198it [11:36:55, 217.18s/it]"
     ]
    },
    {
     "name": "stdout",
     "output_type": "stream",
     "text": [
      "smape result is {'AR': 54.52553675838886, 'Sim': 36.712838404875136, 'dct': 35.99636606883503, 'dnn': 44.73184834041164, 'extra': 35.45560012913838, 'rf': 37.817491517973465, 'svr': 37.71101787941636}\n"
     ]
    },
    {
     "name": "stderr",
     "output_type": "stream",
     "text": [
      "\r",
      "199it [11:47:17, 338.65s/it]"
     ]
    },
    {
     "name": "stdout",
     "output_type": "stream",
     "text": [
      "smape result is {'AR': 34.71982443174648, 'Sim': 34.27271904162747, 'dct': 17.97260694011017, 'dnn': 3.828386487829634, 'extra': 15.621128385364516, 'rf': 16.753590260925463, 'svr': 23.512829622756247}\n"
     ]
    },
    {
     "name": "stderr",
     "output_type": "stream",
     "text": [
      "200it [11:50:34, 213.17s/it]"
     ]
    },
    {
     "name": "stdout",
     "output_type": "stream",
     "text": [
      "smape result is {'AR': 30.441564704332677, 'Sim': 25.736186860709218, 'dct': 25.85625350658269, 'dnn': 25.858795615443974, 'extra': 24.68463741674599, 'rf': 26.511780100758436, 'svr': 25.082871652444503}\n"
     ]
    },
    {
     "name": "stderr",
     "output_type": "stream",
     "text": [
      "\n"
     ]
    }
   ],
   "source": [
    "## 결과 저장\n",
    "test_reals_all = dict() # Validation set에 대한 Grount Truth \n",
    "val_preds_all = dict() #  Validation set에 대한 예측 결과\n",
    "test_preds_all = dict() # Test set에 대한 24포인트 예측 결과\n",
    "smapes_all = dict() # Validation set에 대한 smape 결과\n",
    "\n",
    "for key_idx, key in tqdm(enumerate(test.columns)):\n",
    "    prev_type = 2  # previous day type\n",
    "    curr_type = 2  # current day type\n",
    "    trainAR, testAR = tr_data_set(test, key, prev_type, curr_type)\n",
    "\n",
    "    # 마지막 날 데이터 => nan 처리 과정 => interpolation\n",
    "    temp_test = test[key].iloc[8759 - 40:]\n",
    "    temp_test = temp_test.interpolate(method='spline', order=2)\n",
    "    temp_test = np.array(temp_test.values)\n",
    "    temp_test = temp_test[len(temp_test) - 24:len(temp_test) + 1]\n",
    "    subm_24hrs = temp_test\n",
    "    del temp_test\n",
    "\n",
    "    fchk = 1  # filter length\n",
    "    temp_idx = []\n",
    "    smape_lin = []\n",
    "\n",
    "    # 선형 예측을 이용해서 NaN이 발견될 시 제거\n",
    "    for chk_bad in range(0, len(trainAR[:, 0])):\n",
    "        prev_smape = 200  # 기준 smape\n",
    "        nan_chk = 0\n",
    "\n",
    "        trainAR_temp = np.zeros([1, 24])\n",
    "        testAR_temp = np.zeros([1, 24])\n",
    "\n",
    "        for ii in range(0, 24):\n",
    "            trainAR_temp[0, ii] = trainAR[chk_bad, ii]\n",
    "            testAR_temp[0, ii] = testAR[chk_bad, ii]\n",
    "\n",
    "        # 선형 예측\n",
    "        lin_sampe, fcst_temp, pred_hyb = linear_prediction(trainAR_temp, testAR_temp, fchk, subm_24hrs)\n",
    "\n",
    "        # NaN 처리\n",
    "        if np.isnan(lin_sampe):\n",
    "            nan_chk = 1\n",
    "        if np.isnan(np.sum(trainAR_temp)):\n",
    "            nan_chk = 1\n",
    "        if np.isnan(np.sum(testAR_temp)):\n",
    "            nan_chk = 1\n",
    "        if nan_chk == 1:\n",
    "            temp_idx.append(chk_bad)\n",
    "\n",
    "    # NaN 값이 나타난 data set은 제거\n",
    "    trainAR = np.delete(trainAR, temp_idx, axis=0)\n",
    "    testAR = np.delete(testAR, temp_idx, axis=0)\n",
    "\n",
    "    del_smape = np.zeros([1, len(trainAR[:, 1])])\n",
    "    prev_smape = 200\n",
    "    fchk = 0\n",
    "\n",
    "    # 선형 예측 시, filter length 선정\n",
    "    for chk in range(3, 24):\n",
    "        lin_sampe, fcst_temp, pred_hyb = linear_prediction(trainAR, testAR, chk, subm_24hrs)\n",
    "        if prev_smape > lin_sampe:\n",
    "            fchk = chk\n",
    "            prev_smape = lin_sampe\n",
    "\n",
    "    # 최적의 smape를 탐색\n",
    "    for chk_lin in range(0, len(trainAR[:, 1])):\n",
    "        trainAR_temp = np.delete(trainAR, chk_lin, axis=0)\n",
    "        testAR_temp = np.delete(testAR, chk_lin, axis=0)\n",
    "        lin_sampe, fcst_temp, pred_hyb = linear_prediction(trainAR_temp, testAR_temp, fchk, subm_24hrs)\n",
    "        del_smape[0, chk_lin] = lin_sampe\n",
    "\n",
    "    # smape의 성능을 감소시키는 행 제거\n",
    "    trainAR = np.delete(trainAR, np.argmin(del_smape), axis=0)\n",
    "    testAR = np.delete(testAR, np.argmin(del_smape), axis=0)\n",
    "    del_smape = np.delete(del_smape, np.argmin(del_smape), axis=1)\n",
    "\n",
    "    del nan_chk, lin_sampe, fcst_temp, pred_hyb, prev_smape, temp_idx\n",
    "\n",
    "    ## 결과 저장\n",
    "    smape_results = dict()\n",
    "    val_preds = dict()\n",
    "    test_preds = dict()\n",
    "\n",
    "    ## baseline results\n",
    "    # AR\n",
    "    fcst, smape_val, y_pred = AR_val(trainAR, testAR, fchk, subm_24hrs)\n",
    "    smape_results['AR'], val_preds['AR'],test_preds['AR'] = smape_val, y_pred, fcst\n",
    "\n",
    "    # Similar day\n",
    "    temp_24hrs = np.zeros([1, 24])\n",
    "    for qq in range(0, 24):\n",
    "        temp_24hrs[0, qq] = subm_24hrs[qq]\n",
    "    prev_smape = 200\n",
    "    fsim = 0  # N개의 날\n",
    "    for sim_len in range(2, 5):\n",
    "        sim_fcst, sim_smape, y_pred = similar_approach_val(trainAR, testAR, sim_len, temp_24hrs)\n",
    "        if prev_smape > sim_smape:\n",
    "            fsim = sim_len\n",
    "            prev_smape = sim_smape\n",
    "    fcst, smape_val, y_pred = similar_approach_val(trainAR, testAR, fsim, temp_24hrs)\n",
    "    smape_results['Sim'], val_preds['Sim'], test_preds['Sim'] = smape_val, y_pred, fcst\n",
    "\n",
    "    ## Tuning된 parameter를 불러옴\n",
    "    dct_param = dct_param_list.loc[key,:]\n",
    "    dnn_param = dnn_param_list.loc[key,:]\n",
    "    extra_param = extra_param_list.loc[key,:]\n",
    "    rf_param = rf_param_list.loc[key,:]\n",
    "    svr_param = svr_param_list.loc[key,:]\n",
    "    param_list = [dct_param, dnn_param, extra_param, rf_param, svr_param]\n",
    "    method_list = ['dct','dnn','extra','rf','svr']\n",
    "\n",
    "    # Decision tree, DNN, LSTM, Extra tree, Ranfom Forest, SVR 모델 생성 및 예측\n",
    "    Dnum = trainAR.shape[0]\n",
    "    numTr = int(Dnum * 0.8)\n",
    "    trues = testAR[numTr:,:]\n",
    "    methods = []\n",
    "    for method_idx in range(5):\n",
    "        params = param_list[method_idx]\n",
    "        method = method_list[method_idx]\n",
    "        params = params.to_dict()\n",
    "        if method == 'dnn': # dnn일 경우 dnn과 lstm 중 성능이 좋은 모델을 선택\n",
    "            fcst_list, smape_list, y_pred_list = [], [], []\n",
    "            for i in range(11):\n",
    "                params['EPOCH'] = int(params['EPOCH'])\n",
    "                fcst, smape_val, y_pred = dnn_gen_val(trainAR, testAR, subm_24hrs, params=params)\n",
    "                # lstm\n",
    "                if i == 10:\n",
    "                    fcst, smape_val, y_pred = lstm_gen_val(trainAR, testAR, subm_24hrs, params = {'EPOCH': 80, 'h1': 432, 'h2': 168, 'lr': 0.0004})\n",
    "                fcst_list.append(fcst)\n",
    "                smape_list.append(smape_val)\n",
    "                y_pred_list.append(y_pred)\n",
    "                tf.keras.backend.clear_session()\n",
    "            best_idx = np.argmin(smape_list, axis=0)\n",
    "            smape_val = smape_list[best_idx]\n",
    "            fcst = fcst_list[best_idx]\n",
    "            y_pred = y_pred_list[best_idx]\n",
    "        elif method == 'svr':\n",
    "            fcst, smape_val, y_pred = svr_gen_val(trainAR, testAR, subm_24hrs, params=params)\n",
    "        elif method == 'rf':\n",
    "            fcst, smape_val, y_pred = rf_gen_val(trainAR, testAR, subm_24hrs, params=params)\n",
    "        elif method == 'dct':\n",
    "            fcst, smape_val, y_pred = dct_gen_val(trainAR, testAR, subm_24hrs, params=params)\n",
    "        elif method == 'extra':\n",
    "            fcst, smape_val, y_pred = extra_gen_val(trainAR, testAR, subm_24hrs, params=params)\n",
    "        # save results\n",
    "        key_name = method\n",
    "        smape_results[key_name], val_preds[key_name], test_preds[key_name] = smape_val, y_pred, fcst\n",
    "\n",
    "    test_reals_all[key] = testAR[numTr:,:]\n",
    "    val_preds_all[key] = val_preds\n",
    "    test_preds_all[key] = test_preds\n",
    "    smapes_all[key] = smape_results\n",
    "    print(f'smape result is {smape_results}')"
   ]
  },
  {
   "cell_type": "code",
   "execution_count": 9,
   "metadata": {},
   "outputs": [
    {
     "name": "stdout",
     "output_type": "stream",
     "text": [
      "[0.16666667 0.         0.         0.83333333 0.         0.\n",
      " 0.        ]\n",
      "[0.         0.55555556 0.11111111 0.         0.11111111 0.11111111\n",
      " 0.11111111]\n",
      "[0. 0. 0. 1. 0. 0. 0.]\n",
      "[0.  0.3 0.  0.5 0.1 0.  0.1]\n",
      "[0.         0.55555556 0.11111111 0.         0.11111111 0.11111111\n",
      " 0.11111111]\n",
      "[0.         0.         0.         0.25       0.25       0.08333333\n",
      " 0.41666667]\n",
      "[0.         0.16666667 0.         0.83333333 0.         0.\n",
      " 0.        ]\n",
      "[0.         0.21428571 0.07142857 0.35714286 0.07142857 0.07142857\n",
      " 0.21428571]\n",
      "[0.         0.         0.         0.14285714 0.71428571 0.\n",
      " 0.14285714]\n",
      "[0. 0. 0. 1. 0. 0. 0.]\n",
      "[0.         0.         0.         0.27272727 0.27272727 0.\n",
      " 0.45454545]\n",
      "[0. 0. 0. 1. 0. 0. 0.]\n",
      "[0. 0. 0. 1. 0. 0. 0.]\n",
      "[0.         0.         0.11111111 0.         0.33333333 0.\n",
      " 0.55555556]\n",
      "[0.         0.16666667 0.         0.83333333 0.         0.\n",
      " 0.        ]\n",
      "[0.         0.16666667 0.         0.83333333 0.         0.\n",
      " 0.        ]\n",
      "[0.  0.3 0.  0.5 0.1 0.  0.1]\n",
      "[0.         0.16666667 0.         0.83333333 0.         0.\n",
      " 0.        ]\n",
      "[0.     0.3125 0.0625 0.0625 0.1875 0.1875 0.1875]\n",
      "[0.         0.83333333 0.         0.         0.         0.\n",
      " 0.16666667]\n",
      "[0.         0.         0.         0.83333333 0.         0.\n",
      " 0.16666667]\n",
      "[0.         0.35714286 0.07142857 0.21428571 0.21428571 0.07142857\n",
      " 0.07142857]\n",
      "[0.         0.2        0.         0.2        0.33333333 0.06666667\n",
      " 0.2       ]\n",
      "[0.         0.09090909 0.27272727 0.         0.45454545 0.09090909\n",
      " 0.09090909]\n",
      "[0.         0.17647059 0.17647059 0.         0.17647059 0.17647059\n",
      " 0.29411765]\n",
      "[0.         0.         0.         0.33333333 0.55555556 0.\n",
      " 0.11111111]\n",
      "[0.         0.16666667 0.16666667 0.16666667 0.16666667 0.05555556\n",
      " 0.27777778]\n",
      "[0. 0. 0. 1. 0. 0. 0.]\n",
      "[0. 0. 0. 1. 0. 0. 0.]\n",
      "[0.0625 0.     0.1875 0.1875 0.3125 0.0625 0.1875]\n",
      "[0.         0.         0.         0.83333333 0.16666667 0.\n",
      " 0.        ]\n",
      "[0.         0.         0.33333333 0.         0.11111111 0.\n",
      " 0.55555556]\n",
      "[0.         0.         0.09090909 0.45454545 0.27272727 0.09090909\n",
      " 0.09090909]\n",
      "[0.         0.35714286 0.07142857 0.21428571 0.21428571 0.07142857\n",
      " 0.07142857]\n",
      "[0. 0. 0. 1. 0. 0. 0.]\n",
      "[0. 0. 0. 1. 0. 0. 0.]\n",
      "[0. 0. 0. 1. 0. 0. 0.]\n",
      "[0. 0. 0. 1. 0. 0. 0.]\n",
      "[0.         0.2        0.         0.33333333 0.2        0.06666667\n",
      " 0.2       ]\n",
      "[0. 0. 0. 1. 0. 0. 0.]\n",
      "[0. 0. 0. 1. 0. 0. 0.]\n",
      "[0.         0.23076923 0.07692308 0.         0.38461538 0.07692308\n",
      " 0.23076923]\n",
      "[0.         0.25       0.08333333 0.41666667 0.08333333 0.08333333\n",
      " 0.08333333]\n",
      "[0.         0.         0.         0.35714286 0.21428571 0.21428571\n",
      " 0.21428571]\n",
      "[0.  0.3 0.  0.5 0.1 0.  0.1]\n",
      "[0.         0.14285714 0.         0.         0.71428571 0.\n",
      " 0.14285714]\n",
      "[0. 0. 0. 1. 0. 0. 0.]\n",
      "[0.         0.05555556 0.16666667 0.16666667 0.16666667 0.16666667\n",
      " 0.27777778]\n",
      "[0. 0. 0. 1. 0. 0. 0.]\n",
      "[0.         0.         0.83333333 0.         0.16666667 0.\n",
      " 0.        ]\n",
      "[0.14285714 0.71428571 0.         0.         0.         0.\n",
      " 0.14285714]\n",
      "[0. 0. 0. 1. 0. 0. 0.]\n",
      "[0.         0.55555556 0.         0.11111111 0.11111111 0.11111111\n",
      " 0.11111111]\n",
      "[0. 0. 0. 1. 0. 0. 0.]\n",
      "[0.         0.06666667 0.2        0.33333333 0.2        0.\n",
      " 0.2       ]\n",
      "[0.         0.2        0.2        0.         0.33333333 0.06666667\n",
      " 0.2       ]\n",
      "[0. 0. 0. 1. 0. 0. 0.]\n",
      "[0.         0.25       0.08333333 0.41666667 0.08333333 0.08333333\n",
      " 0.08333333]\n",
      "[0. 0. 0. 1. 0. 0. 0.]\n",
      "[0. 0. 0. 1. 0. 0. 0.]\n",
      "[0.  0.1 0.1 0.5 0.1 0.1 0.1]\n",
      "[0. 0. 0. 1. 0. 0. 0.]\n",
      "[0. 0. 0. 1. 0. 0. 0.]\n",
      "[0.     0.3125 0.0625 0.0625 0.1875 0.1875 0.1875]\n",
      "[0.         0.16666667 0.         0.83333333 0.         0.\n",
      " 0.        ]\n",
      "[0. 0. 0. 0. 1. 0. 0.]\n",
      "[0.         0.35714286 0.07142857 0.21428571 0.21428571 0.07142857\n",
      " 0.07142857]\n",
      "[0.    0.    0.125 0.    0.625 0.125 0.125]\n",
      "[0.         0.         0.14285714 0.         0.71428571 0.14285714\n",
      " 0.        ]\n",
      "[0. 0. 0. 1. 0. 0. 0.]\n",
      "[0.         0.         0.         0.83333333 0.         0.\n",
      " 0.16666667]\n",
      "[0. 0. 0. 1. 0. 0. 0.]\n",
      "[0.         0.         0.         0.71428571 0.14285714 0.\n",
      " 0.14285714]\n",
      "[0.         0.         0.         0.83333333 0.16666667 0.\n",
      " 0.        ]\n",
      "[0. 0. 0. 1. 0. 0. 0.]\n",
      "[0. 0. 0. 1. 0. 0. 0.]\n",
      "[0. 1. 0. 0. 0. 0. 0.]\n",
      "[0. 0. 0. 1. 0. 0. 0.]\n",
      "[0.         0.27272727 0.         0.45454545 0.09090909 0.09090909\n",
      " 0.09090909]\n",
      "[0.  0.  0.5 0.3 0.1 0.  0.1]\n",
      "[0. 0. 0. 1. 0. 0. 0.]\n",
      "[0.         0.16666667 0.         0.83333333 0.         0.\n",
      " 0.        ]\n",
      "[0. 0. 0. 1. 0. 0. 0.]\n",
      "[0.         0.14285714 0.         0.71428571 0.         0.\n",
      " 0.14285714]\n",
      "[0. 0. 0. 1. 0. 0. 0.]\n",
      "[0. 0. 0. 1. 0. 0. 0.]\n",
      "[0. 0. 0. 1. 0. 0. 0.]\n",
      "[0. 0. 0. 1. 0. 0. 0.]\n",
      "[0.         0.14285714 0.         0.71428571 0.         0.\n",
      " 0.14285714]\n",
      "[0. 0. 0. 1. 0. 0. 0.]\n",
      "[0. 0. 0. 1. 0. 0. 0.]\n",
      "[0. 0. 0. 1. 0. 0. 0.]\n",
      "[0.     0.1875 0.0625 0.1875 0.3125 0.0625 0.1875]\n",
      "[0. 1. 0. 0. 0. 0. 0.]\n",
      "[0.         0.27272727 0.         0.         0.27272727 0.\n",
      " 0.45454545]\n",
      "[0. 0. 0. 1. 0. 0. 0.]\n",
      "[0. 0. 0. 1. 0. 0. 0.]\n",
      "[0.         0.2        0.         0.2        0.2        0.06666667\n",
      " 0.33333333]\n",
      "[0.         0.08333333 0.08333333 0.08333333 0.41666667 0.08333333\n",
      " 0.25      ]\n",
      "[0.         0.16666667 0.         0.83333333 0.         0.\n",
      " 0.        ]\n",
      "[0.2        0.         0.2        0.33333333 0.2        0.\n",
      " 0.06666667]\n",
      "[0. 0. 0. 1. 0. 0. 0.]\n",
      "[0. 0. 0. 1. 0. 0. 0.]\n",
      "[0.         0.07142857 0.21428571 0.35714286 0.21428571 0.07142857\n",
      " 0.07142857]\n",
      "[0. 0. 0. 0. 1. 0. 0.]\n",
      "[0.  0.  0.1 0.1 0.5 0.  0.3]\n",
      "[0.         0.27777778 0.05555556 0.16666667 0.16666667 0.16666667\n",
      " 0.16666667]\n",
      "[0.         0.2        0.2        0.         0.33333333 0.06666667\n",
      " 0.2       ]\n",
      "[0.     0.3125 0.0625 0.1875 0.1875 0.0625 0.1875]\n",
      "[0. 0. 0. 1. 0. 0. 0.]\n",
      "[0. 0. 0. 1. 0. 0. 0.]\n",
      "[0.         0.45454545 0.         0.09090909 0.09090909 0.09090909\n",
      " 0.27272727]\n",
      "[0.    0.375 0.    0.625 0.    0.    0.   ]\n",
      "[0. 0. 0. 1. 0. 0. 0.]\n",
      "[0.         0.         0.         0.83333333 0.         0.\n",
      " 0.16666667]\n",
      "[0.         0.27272727 0.         0.45454545 0.09090909 0.09090909\n",
      " 0.09090909]\n",
      "[0. 0. 0. 0. 1. 0. 0.]\n",
      "[0.         0.41666667 0.08333333 0.25       0.08333333 0.08333333\n",
      " 0.08333333]\n",
      "[0.         0.83333333 0.         0.         0.         0.\n",
      " 0.16666667]\n",
      "[0. 0. 0. 1. 0. 0. 0.]\n",
      "[0.         0.         0.71428571 0.         0.14285714 0.\n",
      " 0.14285714]\n",
      "[0.11111111 0.11111111 0.11111111 0.         0.55555556 0.\n",
      " 0.11111111]\n",
      "[0.         0.2        0.2        0.         0.33333333 0.06666667\n",
      " 0.2       ]\n",
      "[0. 0. 0. 1. 0. 0. 0.]\n",
      "[0. 1. 0. 0. 0. 0. 0.]\n",
      "[0.     0.3125 0.0625 0.1875 0.1875 0.0625 0.1875]\n",
      "[0. 0. 0. 1. 0. 0. 0.]\n",
      "[0.         0.         0.         0.71428571 0.14285714 0.\n",
      " 0.14285714]\n",
      "[0. 0. 0. 1. 0. 0. 0.]\n",
      "[0. 0. 0. 1. 0. 0. 0.]\n",
      "[0.11111111 0.         0.         0.         0.55555556 0.\n",
      " 0.33333333]\n",
      "[0.         0.16666667 0.05555556 0.27777778 0.16666667 0.16666667\n",
      " 0.16666667]\n",
      "[0. 0. 0. 1. 0. 0. 0.]\n",
      "[0.         0.27777778 0.16666667 0.16666667 0.16666667 0.16666667\n",
      " 0.05555556]\n",
      "[0. 0. 0. 1. 0. 0. 0.]\n",
      "[0.         0.27272727 0.         0.         0.27272727 0.\n",
      " 0.45454545]\n",
      "[0. 0. 0. 1. 0. 0. 0.]\n",
      "[0.         0.23076923 0.07692308 0.         0.23076923 0.07692308\n",
      " 0.38461538]\n",
      "[0. 0. 0. 1. 0. 0. 0.]\n",
      "[0.         0.         0.         0.83333333 0.16666667 0.\n",
      " 0.        ]\n",
      "[0. 0. 0. 1. 0. 0. 0.]\n",
      "[0. 0. 0. 1. 0. 0. 0.]\n",
      "[1. 0. 0. 0. 0. 0. 0.]\n",
      "[0.08333333 0.25       0.         0.         0.25       0.\n",
      " 0.41666667]\n",
      "[0. 0. 0. 1. 0. 0. 0.]\n",
      "[0. 0. 0. 1. 0. 0. 0.]\n",
      "[0.         0.33333333 0.         0.55555556 0.         0.\n",
      " 0.11111111]\n",
      "[0.         0.33333333 0.06666667 0.2        0.2        0.\n",
      " 0.2       ]\n",
      "[0.  0.  0.3 0.5 0.1 0.1 0. ]\n",
      "[0. 0. 0. 1. 0. 0. 0.]\n",
      "[0. 0. 0. 1. 0. 0. 0.]\n",
      "[0.         0.         0.         0.83333333 0.16666667 0.\n",
      " 0.        ]\n",
      "[0. 0. 0. 0. 1. 0. 0.]\n",
      "[0. 0. 0. 1. 0. 0. 0.]\n",
      "[0. 0. 0. 1. 0. 0. 0.]\n",
      "[0. 0. 0. 1. 0. 0. 0.]\n",
      "[0.         0.41666667 0.25       0.08333333 0.08333333 0.08333333\n",
      " 0.08333333]\n",
      "[0.     0.0625 0.1875 0.1875 0.3125 0.0625 0.1875]\n",
      "[0.         0.16666667 0.         0.83333333 0.         0.\n",
      " 0.        ]\n",
      "[0. 0. 0. 1. 0. 0. 0.]\n",
      "[0. 0. 0. 1. 0. 0. 0.]\n",
      "[0. 0. 0. 1. 0. 0. 0.]\n",
      "[0.         0.38461538 0.         0.07692308 0.23076923 0.07692308\n",
      " 0.23076923]\n",
      "[0. 0. 0. 1. 0. 0. 0.]\n",
      "[0. 1. 0. 0. 0. 0. 0.]\n",
      "[0.         0.27272727 0.         0.         0.45454545 0.\n",
      " 0.27272727]\n",
      "[0.    0.625 0.    0.    0.    0.    0.375]\n",
      "[0.         0.38461538 0.07692308 0.07692308 0.23076923 0.\n",
      " 0.23076923]\n",
      "[0.         0.55555556 0.11111111 0.11111111 0.11111111 0.\n"
     ]
    },
    {
     "name": "stdout",
     "output_type": "stream",
     "text": [
      " 0.11111111]\n",
      "[0.    0.125 0.    0.625 0.125 0.    0.125]\n",
      "[0.  0.  0.1 0.1 0.3 0.  0.5]\n",
      "[0.         0.27272727 0.         0.45454545 0.09090909 0.09090909\n",
      " 0.09090909]\n",
      "[0.     0.0625 0.1875 0.1875 0.1875 0.3125 0.0625]\n",
      "[0.         0.07692308 0.         0.38461538 0.23076923 0.07692308\n",
      " 0.23076923]\n",
      "[0.     0.1875 0.1875 0.0625 0.1875 0.0625 0.3125]\n",
      "[0. 0. 0. 1. 0. 0. 0.]\n",
      "[0. 0. 0. 1. 0. 0. 0.]\n",
      "[0.         0.11111111 0.11111111 0.11111111 0.55555556 0.\n",
      " 0.11111111]\n",
      "[0. 0. 0. 1. 0. 0. 0.]\n",
      "[0. 0. 0. 1. 0. 0. 0.]\n",
      "[0. 0. 0. 1. 0. 0. 0.]\n",
      "[0. 0. 0. 1. 0. 0. 0.]\n",
      "[0. 0. 0. 1. 0. 0. 0.]\n",
      "[0.         0.38461538 0.07692308 0.23076923 0.23076923 0.\n",
      " 0.07692308]\n",
      "[0. 0. 0. 1. 0. 0. 0.]\n",
      "[0. 0. 0. 1. 0. 0. 0.]\n",
      "[0.         0.         0.         0.71428571 0.14285714 0.\n",
      " 0.14285714]\n",
      "[0. 0. 0. 1. 0. 0. 0.]\n",
      "[0.    0.375 0.    0.625 0.    0.    0.   ]\n",
      "[0.11111111 0.         0.         0.         0.33333333 0.\n",
      " 0.55555556]\n",
      "[0. 0. 0. 1. 0. 0. 0.]\n",
      "[0.         0.29411765 0.17647059 0.         0.17647059 0.17647059\n",
      " 0.17647059]\n",
      "[0.     0.3125 0.0625 0.0625 0.1875 0.1875 0.1875]\n",
      "[0.    0.125 0.    0.625 0.125 0.    0.125]\n",
      "[0. 0. 1. 0. 0. 0. 0.]\n",
      "[0. 0. 0. 1. 0. 0. 0.]\n",
      "[0.         0.27272727 0.09090909 0.45454545 0.09090909 0.\n",
      " 0.09090909]\n",
      "[0.         0.23076923 0.23076923 0.         0.38461538 0.07692308\n",
      " 0.07692308]\n",
      "[0. 0. 0. 1. 0. 0. 0.]\n",
      "[0.         0.16666667 0.16666667 0.16666667 0.27777778 0.05555556\n",
      " 0.16666667]\n"
     ]
    }
   ],
   "source": [
    "#%% 24시간의 결과 앙상블\n",
    "for key_idx, key in enumerate(test.columns):\n",
    "    # load results\n",
    "    test_preds = test_preds_all[key]\n",
    "    true = test_reals_all[key]\n",
    "    val_preds = val_preds_all[key]\n",
    "    num_methods = len(val_preds)\n",
    "\n",
    "    ## smape loss 기준으로 weight 결정\n",
    "    methods = np.array(list(smapes_all[key].keys()))\n",
    "    loss = np.array(list(smapes_all[key].values()))\n",
    "    drop_idx = loss > np.min(loss) * 1.1\n",
    "    weight = np.ones((num_methods))\n",
    "    weight[drop_idx] = 0\n",
    "    weight[loss < np.min(loss) * 1.05] = 3\n",
    "    weight[np.argmin(loss)] = 5\n",
    "    weight /= weight.sum()\n",
    "    print(weight)\n",
    "\n",
    "    ## test prediction based on weight\n",
    "    ensemble_pred = np.zeros((1, 24))\n",
    "    for j in range(num_methods):\n",
    "        ensemble_pred += weight[j] * test_preds[methods[j]]\n",
    "\n",
    "    ## submission에 저장\n",
    "    submission.loc[key, submission.columns[0]:submission.columns[23]] = np.ravel(ensemble_pred)\n"
   ]
  },
  {
   "cell_type": "markdown",
   "metadata": {},
   "source": [
    "* 일, 월 예측은 Similar day approach를 통해 수행"
   ]
  },
  {
   "cell_type": "code",
   "execution_count": 10,
   "metadata": {},
   "outputs": [],
   "source": [
    "for key_idx, key in enumerate(test.columns):\n",
    "    ### Day prediction\n",
    "    fcst_d = np.zeros([1, 10])\n",
    "\n",
    "    trainAR_Day = tr_day_set(test, key)\n",
    "\n",
    "    # Similar day approach\n",
    "    day_idx = np.zeros([1, 10])\n",
    "    for ii in range(0, 10):\n",
    "        mod_idx = -1\n",
    "        # 요일 idx\n",
    "        temp_idx = (ii + mod_idx) % 7\n",
    "        day_idx[0, ii] = temp_idx\n",
    "\n",
    "    for ii in range(0, 10):\n",
    "        flen = np.random.randint(3) + 2\n",
    "        temp_day = np.zeros([1, flen])\n",
    "        for jj in range(0, flen):\n",
    "            temp_day[0, jj] = trainAR_Day[jj, int(round(day_idx[0, ii]))]\n",
    "        # 평균값으로 예측\n",
    "        fcst_d[0, ii] = np.mean(temp_day)\n",
    "\n",
    "    # submission에 저장\n",
    "    for i in range(10):\n",
    "        submission.loc[key,'X2018_7_' + str(i + 1) + '_d'] = fcst_d[0][i]\n",
    "\n",
    "    del mod_idx, temp_idx\n",
    "\n",
    "    ### Month prediction\n",
    "    mon_test = np.zeros([1, 300])\n",
    "\n",
    "    # Similar day approach\n",
    "    day_idx = np.zeros([1, 300])\n",
    "    for ii in range(0, 300):\n",
    "        mod_idx = -1\n",
    "        # 요일 idx 생성(월~일: 0~6)\n",
    "        temp_idx = (ii + mod_idx) % 7\n",
    "        day_idx[0, ii] = temp_idx\n",
    "\n",
    "    # 휴일의 경우, 일요일과 같은 데이터로 가정함.\n",
    "    day_idx[0, 31 + 15 - 1] = 6  # 광복절\n",
    "    day_idx[0, 31 + 31 + 24 - 1] = 6  # 추석\n",
    "    day_idx[0, 31 + 31 + 25 - 1] = 6  # 추석\n",
    "    day_idx[0, 31 + 31 + 26 - 1] = 6  # 대체휴일\n",
    "    day_idx[0, 31 + 31 + 30 + 3 - 1] = 6  # 개천절\n",
    "    day_idx[0, 31 + 31 + 30 + 9 - 1] = 6  # 한글날\n",
    "    day_idx[0, 31 + 31 + 30 + 31 + 30 + 25 - 1] = 6  # 성탄절\n",
    "\n",
    "    # 1~4주 전의 같은 요일 데이터를 랜덤하게 불러와 평균을 취함\n",
    "    for ii in range(0, 300):\n",
    "        flen = np.random.randint(3) + 1\n",
    "        temp_day = np.zeros([1, flen])\n",
    "        for jj in range(0, flen):\n",
    "            temp_day[0, jj] = trainAR_Day[jj, int(round(day_idx[0, ii]))]\n",
    "        mon_test[0, ii] = np.mean(temp_day)\n",
    "\n",
    "    # 결과 합\n",
    "    pred_7m = np.sum(mon_test[0, 0:31])\n",
    "    pred_8m = np.sum(mon_test[0, 31:62])\n",
    "    pred_9m = np.sum(mon_test[0, 62:92])\n",
    "    pred_10m = np.sum(mon_test[0, 92:123])\n",
    "    pred_11m = np.sum(mon_test[0, 123:153])\n",
    "\n",
    "    submission.loc[key,'X2018_7_m'] = pred_7m\n",
    "    submission.loc[key,'X2018_8_m'] = pred_8m\n",
    "    submission.loc[key,'X2018_9_m'] = pred_9m\n",
    "    submission.loc[key,'X2018_10_m'] = pred_10m\n",
    "    submission.loc[key,'X2018_11_m'] = pred_11m\n",
    "\n",
    "submission.to_csv('submission.csv')"
   ]
  },
  {
   "cell_type": "markdown",
   "metadata": {},
   "source": [
    "## 4. 결과\n",
    "* 다양한 모델의 앙상블을 통해 향상된 예측 결과를 얻을 수 있음  \n",
    "* public score: 27.41, private score: 26.98"
   ]
  }
 ],
 "metadata": {
  "kernelspec": {
   "display_name": "Python 3",
   "language": "python",
   "name": "python3"
  },
  "language_info": {
   "codemirror_mode": {
    "name": "ipython",
    "version": 3
   },
   "file_extension": ".py",
   "mimetype": "text/x-python",
   "name": "python",
   "nbconvert_exporter": "python",
   "pygments_lexer": "ipython3",
   "version": "3.7.6"
  }
 },
 "nbformat": 4,
 "nbformat_minor": 4
}
